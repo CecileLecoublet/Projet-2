{
 "cells": [
  {
   "cell_type": "markdown",
   "metadata": {},
   "source": [
    "# Projet 2 : Analyser des données de sustèmes éducatifs"
   ]
  },
  {
   "cell_type": "markdown",
   "metadata": {},
   "source": [
    "## Importation de librairies"
   ]
  },
  {
   "cell_type": "code",
   "execution_count": 1,
   "metadata": {},
   "outputs": [],
   "source": [
    "import numpy as np\n",
    "import pandas as pd\n",
    "import seaborn as sns\n",
    "import matplotlib.pyplot as plt"
   ]
  },
  {
   "cell_type": "markdown",
   "metadata": {},
   "source": [
    "# Exploration du fichier : \"EdStatsData.csv\""
   ]
  },
  {
   "cell_type": "code",
   "execution_count": 2,
   "metadata": {},
   "outputs": [],
   "source": [
    "df3 =  pd.read_csv(\"EdStatsData.csv\")"
   ]
  },
  {
   "cell_type": "markdown",
   "metadata": {},
   "source": [
    "Taille du fichier"
   ]
  },
  {
   "cell_type": "code",
   "execution_count": 3,
   "metadata": {},
   "outputs": [
    {
     "data": {
      "text/plain": [
       "(886930, 70)"
      ]
     },
     "execution_count": 3,
     "metadata": {},
     "output_type": "execute_result"
    }
   ],
   "source": [
    "df3.shape"
   ]
  },
  {
   "cell_type": "code",
   "execution_count": 4,
   "metadata": {},
   "outputs": [
    {
     "data": {
      "text/html": [
       "<div>\n",
       "<style scoped>\n",
       "    .dataframe tbody tr th:only-of-type {\n",
       "        vertical-align: middle;\n",
       "    }\n",
       "\n",
       "    .dataframe tbody tr th {\n",
       "        vertical-align: top;\n",
       "    }\n",
       "\n",
       "    .dataframe thead th {\n",
       "        text-align: right;\n",
       "    }\n",
       "</style>\n",
       "<table border=\"1\" class=\"dataframe\">\n",
       "  <thead>\n",
       "    <tr style=\"text-align: right;\">\n",
       "      <th></th>\n",
       "      <th>Country Name</th>\n",
       "      <th>Country Code</th>\n",
       "      <th>Indicator Name</th>\n",
       "      <th>Indicator Code</th>\n",
       "      <th>1970</th>\n",
       "      <th>1971</th>\n",
       "      <th>1972</th>\n",
       "      <th>1973</th>\n",
       "      <th>1974</th>\n",
       "      <th>1975</th>\n",
       "      <th>...</th>\n",
       "      <th>2060</th>\n",
       "      <th>2065</th>\n",
       "      <th>2070</th>\n",
       "      <th>2075</th>\n",
       "      <th>2080</th>\n",
       "      <th>2085</th>\n",
       "      <th>2090</th>\n",
       "      <th>2095</th>\n",
       "      <th>2100</th>\n",
       "      <th>Unnamed: 69</th>\n",
       "    </tr>\n",
       "  </thead>\n",
       "  <tbody>\n",
       "    <tr>\n",
       "      <th>0</th>\n",
       "      <td>Arab World</td>\n",
       "      <td>ARB</td>\n",
       "      <td>Adjusted net enrolment rate, lower secondary, ...</td>\n",
       "      <td>UIS.NERA.2</td>\n",
       "      <td>NaN</td>\n",
       "      <td>NaN</td>\n",
       "      <td>NaN</td>\n",
       "      <td>NaN</td>\n",
       "      <td>NaN</td>\n",
       "      <td>NaN</td>\n",
       "      <td>...</td>\n",
       "      <td>NaN</td>\n",
       "      <td>NaN</td>\n",
       "      <td>NaN</td>\n",
       "      <td>NaN</td>\n",
       "      <td>NaN</td>\n",
       "      <td>NaN</td>\n",
       "      <td>NaN</td>\n",
       "      <td>NaN</td>\n",
       "      <td>NaN</td>\n",
       "      <td>NaN</td>\n",
       "    </tr>\n",
       "    <tr>\n",
       "      <th>1</th>\n",
       "      <td>Arab World</td>\n",
       "      <td>ARB</td>\n",
       "      <td>Adjusted net enrolment rate, lower secondary, ...</td>\n",
       "      <td>UIS.NERA.2.F</td>\n",
       "      <td>NaN</td>\n",
       "      <td>NaN</td>\n",
       "      <td>NaN</td>\n",
       "      <td>NaN</td>\n",
       "      <td>NaN</td>\n",
       "      <td>NaN</td>\n",
       "      <td>...</td>\n",
       "      <td>NaN</td>\n",
       "      <td>NaN</td>\n",
       "      <td>NaN</td>\n",
       "      <td>NaN</td>\n",
       "      <td>NaN</td>\n",
       "      <td>NaN</td>\n",
       "      <td>NaN</td>\n",
       "      <td>NaN</td>\n",
       "      <td>NaN</td>\n",
       "      <td>NaN</td>\n",
       "    </tr>\n",
       "    <tr>\n",
       "      <th>2</th>\n",
       "      <td>Arab World</td>\n",
       "      <td>ARB</td>\n",
       "      <td>Adjusted net enrolment rate, lower secondary, ...</td>\n",
       "      <td>UIS.NERA.2.GPI</td>\n",
       "      <td>NaN</td>\n",
       "      <td>NaN</td>\n",
       "      <td>NaN</td>\n",
       "      <td>NaN</td>\n",
       "      <td>NaN</td>\n",
       "      <td>NaN</td>\n",
       "      <td>...</td>\n",
       "      <td>NaN</td>\n",
       "      <td>NaN</td>\n",
       "      <td>NaN</td>\n",
       "      <td>NaN</td>\n",
       "      <td>NaN</td>\n",
       "      <td>NaN</td>\n",
       "      <td>NaN</td>\n",
       "      <td>NaN</td>\n",
       "      <td>NaN</td>\n",
       "      <td>NaN</td>\n",
       "    </tr>\n",
       "  </tbody>\n",
       "</table>\n",
       "<p>3 rows × 70 columns</p>\n",
       "</div>"
      ],
      "text/plain": [
       "  Country Name Country Code  \\\n",
       "0   Arab World          ARB   \n",
       "1   Arab World          ARB   \n",
       "2   Arab World          ARB   \n",
       "\n",
       "                                      Indicator Name  Indicator Code  1970  \\\n",
       "0  Adjusted net enrolment rate, lower secondary, ...      UIS.NERA.2   NaN   \n",
       "1  Adjusted net enrolment rate, lower secondary, ...    UIS.NERA.2.F   NaN   \n",
       "2  Adjusted net enrolment rate, lower secondary, ...  UIS.NERA.2.GPI   NaN   \n",
       "\n",
       "   1971  1972  1973  1974  1975  ...  2060  2065  2070  2075  2080  2085  \\\n",
       "0   NaN   NaN   NaN   NaN   NaN  ...   NaN   NaN   NaN   NaN   NaN   NaN   \n",
       "1   NaN   NaN   NaN   NaN   NaN  ...   NaN   NaN   NaN   NaN   NaN   NaN   \n",
       "2   NaN   NaN   NaN   NaN   NaN  ...   NaN   NaN   NaN   NaN   NaN   NaN   \n",
       "\n",
       "   2090  2095  2100  Unnamed: 69  \n",
       "0   NaN   NaN   NaN          NaN  \n",
       "1   NaN   NaN   NaN          NaN  \n",
       "2   NaN   NaN   NaN          NaN  \n",
       "\n",
       "[3 rows x 70 columns]"
      ]
     },
     "execution_count": 4,
     "metadata": {},
     "output_type": "execute_result"
    }
   ],
   "source": [
    "df3.head(3)"
   ]
  },
  {
   "cell_type": "markdown",
   "metadata": {},
   "source": [
    "Nom de colonne"
   ]
  },
  {
   "cell_type": "code",
   "execution_count": 5,
   "metadata": {},
   "outputs": [
    {
     "data": {
      "text/plain": [
       "Index(['Country Name', 'Country Code', 'Indicator Name', 'Indicator Code',\n",
       "       '1970', '1971', '1972', '1973', '1974', '1975', '1976', '1977', '1978',\n",
       "       '1979', '1980', '1981', '1982', '1983', '1984', '1985', '1986', '1987',\n",
       "       '1988', '1989', '1990', '1991', '1992', '1993', '1994', '1995', '1996',\n",
       "       '1997', '1998', '1999', '2000', '2001', '2002', '2003', '2004', '2005',\n",
       "       '2006', '2007', '2008', '2009', '2010', '2011', '2012', '2013', '2014',\n",
       "       '2015', '2016', '2017', '2020', '2025', '2030', '2035', '2040', '2045',\n",
       "       '2050', '2055', '2060', '2065', '2070', '2075', '2080', '2085', '2090',\n",
       "       '2095', '2100', 'Unnamed: 69'],\n",
       "      dtype='object')"
      ]
     },
     "execution_count": 5,
     "metadata": {},
     "output_type": "execute_result"
    }
   ],
   "source": [
    "df3.columns"
   ]
  },
  {
   "cell_type": "markdown",
   "metadata": {},
   "source": [
    "## Valeur manquante"
   ]
  },
  {
   "cell_type": "code",
   "execution_count": 6,
   "metadata": {},
   "outputs": [
    {
     "data": {
      "text/html": [
       "<div>\n",
       "<style scoped>\n",
       "    .dataframe tbody tr th:only-of-type {\n",
       "        vertical-align: middle;\n",
       "    }\n",
       "\n",
       "    .dataframe tbody tr th {\n",
       "        vertical-align: top;\n",
       "    }\n",
       "\n",
       "    .dataframe thead th {\n",
       "        text-align: right;\n",
       "    }\n",
       "</style>\n",
       "<table border=\"1\" class=\"dataframe\">\n",
       "  <thead>\n",
       "    <tr style=\"text-align: right;\">\n",
       "      <th></th>\n",
       "      <th>Country Name</th>\n",
       "      <th>Country Code</th>\n",
       "      <th>Indicator Name</th>\n",
       "      <th>Indicator Code</th>\n",
       "      <th>1970</th>\n",
       "      <th>1971</th>\n",
       "      <th>1972</th>\n",
       "      <th>1973</th>\n",
       "      <th>1974</th>\n",
       "      <th>1975</th>\n",
       "      <th>...</th>\n",
       "      <th>2060</th>\n",
       "      <th>2065</th>\n",
       "      <th>2070</th>\n",
       "      <th>2075</th>\n",
       "      <th>2080</th>\n",
       "      <th>2085</th>\n",
       "      <th>2090</th>\n",
       "      <th>2095</th>\n",
       "      <th>2100</th>\n",
       "      <th>Unnamed: 69</th>\n",
       "    </tr>\n",
       "  </thead>\n",
       "  <tbody>\n",
       "    <tr>\n",
       "      <th>0</th>\n",
       "      <td>0.0</td>\n",
       "      <td>0.0</td>\n",
       "      <td>0.0</td>\n",
       "      <td>0.0</td>\n",
       "      <td>0.918496</td>\n",
       "      <td>0.959933</td>\n",
       "      <td>0.95984</td>\n",
       "      <td>0.959924</td>\n",
       "      <td>0.959715</td>\n",
       "      <td>0.901564</td>\n",
       "      <td>...</td>\n",
       "      <td>0.942007</td>\n",
       "      <td>0.942007</td>\n",
       "      <td>0.942007</td>\n",
       "      <td>0.942007</td>\n",
       "      <td>0.942007</td>\n",
       "      <td>0.942007</td>\n",
       "      <td>0.942007</td>\n",
       "      <td>0.942007</td>\n",
       "      <td>0.942007</td>\n",
       "      <td>1.0</td>\n",
       "    </tr>\n",
       "  </tbody>\n",
       "</table>\n",
       "<p>1 rows × 70 columns</p>\n",
       "</div>"
      ],
      "text/plain": [
       "   Country Name  Country Code  Indicator Name  Indicator Code      1970  \\\n",
       "0           0.0           0.0             0.0             0.0  0.918496   \n",
       "\n",
       "       1971     1972      1973      1974      1975  ...      2060      2065  \\\n",
       "0  0.959933  0.95984  0.959924  0.959715  0.901564  ...  0.942007  0.942007   \n",
       "\n",
       "       2070      2075      2080      2085      2090      2095      2100  \\\n",
       "0  0.942007  0.942007  0.942007  0.942007  0.942007  0.942007  0.942007   \n",
       "\n",
       "   Unnamed: 69  \n",
       "0          1.0  \n",
       "\n",
       "[1 rows x 70 columns]"
      ]
     },
     "execution_count": 6,
     "metadata": {},
     "output_type": "execute_result"
    }
   ],
   "source": [
    "# Null rate fraction per columns\n",
    "null_rate = pd.DataFrame( data=df3.isna().sum().values.reshape(1,-1)/len(df3), \n",
    "             columns=df3.columns )\n",
    "null_rate"
   ]
  },
  {
   "cell_type": "code",
   "execution_count": 8,
   "metadata": {
    "scrolled": false
   },
   "outputs": [
    {
     "data": {
      "image/png": "[encoded data removed]",
      "text/plain": [
       "<Figure size 2160x720 with 1 Axes>"
      ]
     },
     "metadata": {
      "needs_background": "light"
     },
     "output_type": "display_data"
    }
   ],
   "source": [
    "fig,ax = plt.subplots()\n",
    "plt.rcParams[\"figure.figsize\"] = (30,10)\n",
    "sns.barplot( data=null_rate, color = 'blue')\n",
    "ax.tick_params(axis='x', rotation=90)"
   ]
  },
  {
   "cell_type": "markdown",
   "metadata": {},
   "source": [
    "On filtre les colonnes selon celles qui ont le plus de données et on examie les indicateurs."
   ]
  },
  {
   "cell_type": "code",
   "execution_count": 9,
   "metadata": {},
   "outputs": [
    {
     "data": {
      "text/plain": [
       "0.7266503557214211"
      ]
     },
     "execution_count": 9,
     "metadata": {},
     "output_type": "execute_result"
    }
   ],
   "source": [
    "r_min = null_rate.iloc[:,4:].min(axis=1).tolist()[0]\n",
    "r_min"
   ]
  },
  {
   "cell_type": "markdown",
   "metadata": {},
   "source": [
    "La valeur retenu est 0.72 % et on voit que la colonne avec le plus d'information est l'année 2010"
   ]
  },
  {
   "cell_type": "code",
   "execution_count": 10,
   "metadata": {},
   "outputs": [
    {
     "name": "stdout",
     "output_type": "stream",
     "text": [
      "CPU times: total: 0 ns\n",
      "Wall time: 0 ns\n"
     ]
    },
    {
     "data": {
      "text/plain": [
       "['2010']"
      ]
     },
     "execution_count": 10,
     "metadata": {},
     "output_type": "execute_result"
    }
   ],
   "source": [
    "import time\n",
    "%time\n",
    "col_min = list( filter(lambda c: null_rate.loc[0, c]==r_min,\n",
    "                      null_rate.columns) )\n",
    "col_min"
   ]
  },
  {
   "cell_type": "markdown",
   "metadata": {},
   "source": [
    "On regarde les indicateurs avec le plus d'information"
   ]
  },
  {
   "cell_type": "code",
   "execution_count": 11,
   "metadata": {},
   "outputs": [
    {
     "data": {
      "text/html": [
       "<div>\n",
       "<style scoped>\n",
       "    .dataframe tbody tr th:only-of-type {\n",
       "        vertical-align: middle;\n",
       "    }\n",
       "\n",
       "    .dataframe tbody tr th {\n",
       "        vertical-align: top;\n",
       "    }\n",
       "\n",
       "    .dataframe thead th {\n",
       "        text-align: right;\n",
       "    }\n",
       "</style>\n",
       "<table border=\"1\" class=\"dataframe\">\n",
       "  <thead>\n",
       "    <tr style=\"text-align: right;\">\n",
       "      <th></th>\n",
       "      <th>Indicator Name</th>\n",
       "      <th>2010</th>\n",
       "    </tr>\n",
       "  </thead>\n",
       "  <tbody>\n",
       "    <tr>\n",
       "      <th>0</th>\n",
       "      <td>Population, total</td>\n",
       "      <td>240</td>\n",
       "    </tr>\n",
       "    <tr>\n",
       "      <th>1</th>\n",
       "      <td>Population growth (annual %)</td>\n",
       "      <td>240</td>\n",
       "    </tr>\n",
       "    <tr>\n",
       "      <th>2</th>\n",
       "      <td>GDP at market prices (current US$)</td>\n",
       "      <td>228</td>\n",
       "    </tr>\n",
       "    <tr>\n",
       "      <th>3</th>\n",
       "      <td>GDP per capita (current US$)</td>\n",
       "      <td>228</td>\n",
       "    </tr>\n",
       "    <tr>\n",
       "      <th>4</th>\n",
       "      <td>GDP at market prices (constant 2005 US$)</td>\n",
       "      <td>227</td>\n",
       "    </tr>\n",
       "    <tr>\n",
       "      <th>...</th>\n",
       "      <td>...</td>\n",
       "      <td>...</td>\n",
       "    </tr>\n",
       "    <tr>\n",
       "      <th>3660</th>\n",
       "      <td>EGRA: Reading Comprehension - Share of student...</td>\n",
       "      <td>0</td>\n",
       "    </tr>\n",
       "    <tr>\n",
       "      <th>3661</th>\n",
       "      <td>EGRA: Reading Comprehension - Share of student...</td>\n",
       "      <td>0</td>\n",
       "    </tr>\n",
       "    <tr>\n",
       "      <th>3662</th>\n",
       "      <td>EGRA: Identification of the Initial Sound of a...</td>\n",
       "      <td>0</td>\n",
       "    </tr>\n",
       "    <tr>\n",
       "      <th>3663</th>\n",
       "      <td>EGRA: Identification of the Initial Sound of a...</td>\n",
       "      <td>0</td>\n",
       "    </tr>\n",
       "    <tr>\n",
       "      <th>3664</th>\n",
       "      <td>PASEC: Mean performance on the mathematics sca...</td>\n",
       "      <td>0</td>\n",
       "    </tr>\n",
       "  </tbody>\n",
       "</table>\n",
       "<p>3665 rows × 2 columns</p>\n",
       "</div>"
      ],
      "text/plain": [
       "                                         Indicator Name  2010\n",
       "0                                     Population, total   240\n",
       "1                          Population growth (annual %)   240\n",
       "2                    GDP at market prices (current US$)   228\n",
       "3                          GDP per capita (current US$)   228\n",
       "4              GDP at market prices (constant 2005 US$)   227\n",
       "...                                                 ...   ...\n",
       "3660  EGRA: Reading Comprehension - Share of student...     0\n",
       "3661  EGRA: Reading Comprehension - Share of student...     0\n",
       "3662  EGRA: Identification of the Initial Sound of a...     0\n",
       "3663  EGRA: Identification of the Initial Sound of a...     0\n",
       "3664  PASEC: Mean performance on the mathematics sca...     0\n",
       "\n",
       "[3665 rows x 2 columns]"
      ]
     },
     "execution_count": 11,
     "metadata": {},
     "output_type": "execute_result"
    }
   ],
   "source": [
    "df3.groupby( df3[\"Indicator Name\"] ).count()\\\n",
    "    .sort_values(by=[\"2010\"], ascending=False).reset_index()[[\"Indicator Name\", \"2010\"]]"
   ]
  },
  {
   "cell_type": "code",
   "execution_count": 12,
   "metadata": {
    "scrolled": false
   },
   "outputs": [
    {
     "data": {
      "text/html": [
       "<div>\n",
       "<style scoped>\n",
       "    .dataframe tbody tr th:only-of-type {\n",
       "        vertical-align: middle;\n",
       "    }\n",
       "\n",
       "    .dataframe tbody tr th {\n",
       "        vertical-align: top;\n",
       "    }\n",
       "\n",
       "    .dataframe thead th {\n",
       "        text-align: right;\n",
       "    }\n",
       "</style>\n",
       "<table border=\"1\" class=\"dataframe\">\n",
       "  <thead>\n",
       "    <tr style=\"text-align: right;\">\n",
       "      <th></th>\n",
       "      <th>Indicator Name</th>\n",
       "      <th>count_2010</th>\n",
       "    </tr>\n",
       "  </thead>\n",
       "  <tbody>\n",
       "    <tr>\n",
       "      <th>0</th>\n",
       "      <td>Population, total</td>\n",
       "      <td>240</td>\n",
       "    </tr>\n",
       "    <tr>\n",
       "      <th>1</th>\n",
       "      <td>Population growth (annual %)</td>\n",
       "      <td>240</td>\n",
       "    </tr>\n",
       "    <tr>\n",
       "      <th>2</th>\n",
       "      <td>GDP at market prices (current US$)</td>\n",
       "      <td>228</td>\n",
       "    </tr>\n",
       "    <tr>\n",
       "      <th>3</th>\n",
       "      <td>GDP per capita (current US$)</td>\n",
       "      <td>228</td>\n",
       "    </tr>\n",
       "    <tr>\n",
       "      <th>4</th>\n",
       "      <td>GDP at market prices (constant 2005 US$)</td>\n",
       "      <td>227</td>\n",
       "    </tr>\n",
       "    <tr>\n",
       "      <th>5</th>\n",
       "      <td>GDP per capita (constant 2005 US$)</td>\n",
       "      <td>227</td>\n",
       "    </tr>\n",
       "    <tr>\n",
       "      <th>6</th>\n",
       "      <td>Internet users (per 100 people)</td>\n",
       "      <td>227</td>\n",
       "    </tr>\n",
       "    <tr>\n",
       "      <th>7</th>\n",
       "      <td>Total outbound internationally mobile tertiary...</td>\n",
       "      <td>222</td>\n",
       "    </tr>\n",
       "    <tr>\n",
       "      <th>8</th>\n",
       "      <td>Population of the official age for upper secon...</td>\n",
       "      <td>220</td>\n",
       "    </tr>\n",
       "    <tr>\n",
       "      <th>9</th>\n",
       "      <td>Population, female</td>\n",
       "      <td>219</td>\n",
       "    </tr>\n",
       "    <tr>\n",
       "      <th>10</th>\n",
       "      <td>Population, ages 0-14 (% of total)</td>\n",
       "      <td>219</td>\n",
       "    </tr>\n",
       "    <tr>\n",
       "      <th>11</th>\n",
       "      <td>Population of the official age for lower secon...</td>\n",
       "      <td>219</td>\n",
       "    </tr>\n",
       "    <tr>\n",
       "      <th>12</th>\n",
       "      <td>Population, ages 0-14, female</td>\n",
       "      <td>219</td>\n",
       "    </tr>\n",
       "    <tr>\n",
       "      <th>13</th>\n",
       "      <td>Population of the official age for secondary e...</td>\n",
       "      <td>219</td>\n",
       "    </tr>\n",
       "    <tr>\n",
       "      <th>14</th>\n",
       "      <td>Population, ages 0-14, male</td>\n",
       "      <td>219</td>\n",
       "    </tr>\n",
       "    <tr>\n",
       "      <th>15</th>\n",
       "      <td>Population of the official age for upper secon...</td>\n",
       "      <td>219</td>\n",
       "    </tr>\n",
       "    <tr>\n",
       "      <th>16</th>\n",
       "      <td>Population, ages 0-14, total</td>\n",
       "      <td>219</td>\n",
       "    </tr>\n",
       "    <tr>\n",
       "      <th>17</th>\n",
       "      <td>Population of the official age for upper secon...</td>\n",
       "      <td>219</td>\n",
       "    </tr>\n",
       "    <tr>\n",
       "      <th>18</th>\n",
       "      <td>Population, male (% of total)</td>\n",
       "      <td>219</td>\n",
       "    </tr>\n",
       "    <tr>\n",
       "      <th>19</th>\n",
       "      <td>Population, male</td>\n",
       "      <td>219</td>\n",
       "    </tr>\n",
       "    <tr>\n",
       "      <th>20</th>\n",
       "      <td>Population, ages 15-64, total</td>\n",
       "      <td>219</td>\n",
       "    </tr>\n",
       "    <tr>\n",
       "      <th>21</th>\n",
       "      <td>Population, female (% of total)</td>\n",
       "      <td>219</td>\n",
       "    </tr>\n",
       "    <tr>\n",
       "      <th>22</th>\n",
       "      <td>Population, ages 15-64, male</td>\n",
       "      <td>219</td>\n",
       "    </tr>\n",
       "    <tr>\n",
       "      <th>23</th>\n",
       "      <td>Population, ages 15-64, female</td>\n",
       "      <td>219</td>\n",
       "    </tr>\n",
       "    <tr>\n",
       "      <th>24</th>\n",
       "      <td>Population, ages 15-64 (% of total)</td>\n",
       "      <td>219</td>\n",
       "    </tr>\n",
       "    <tr>\n",
       "      <th>25</th>\n",
       "      <td>Population of the official age for pre-primary...</td>\n",
       "      <td>218</td>\n",
       "    </tr>\n",
       "    <tr>\n",
       "      <th>26</th>\n",
       "      <td>Population of the official age for secondary e...</td>\n",
       "      <td>218</td>\n",
       "    </tr>\n",
       "    <tr>\n",
       "      <th>27</th>\n",
       "      <td>Population of the official age for secondary e...</td>\n",
       "      <td>218</td>\n",
       "    </tr>\n",
       "    <tr>\n",
       "      <th>28</th>\n",
       "      <td>GNI (current US$)</td>\n",
       "      <td>218</td>\n",
       "    </tr>\n",
       "    <tr>\n",
       "      <th>29</th>\n",
       "      <td>Population of the official age for lower secon...</td>\n",
       "      <td>218</td>\n",
       "    </tr>\n",
       "  </tbody>\n",
       "</table>\n",
       "</div>"
      ],
      "text/plain": [
       "                                       Indicator Name  count_2010\n",
       "0                                   Population, total         240\n",
       "1                        Population growth (annual %)         240\n",
       "2                  GDP at market prices (current US$)         228\n",
       "3                        GDP per capita (current US$)         228\n",
       "4            GDP at market prices (constant 2005 US$)         227\n",
       "5                  GDP per capita (constant 2005 US$)         227\n",
       "6                     Internet users (per 100 people)         227\n",
       "7   Total outbound internationally mobile tertiary...         222\n",
       "8   Population of the official age for upper secon...         220\n",
       "9                                  Population, female         219\n",
       "10                 Population, ages 0-14 (% of total)         219\n",
       "11  Population of the official age for lower secon...         219\n",
       "12                      Population, ages 0-14, female         219\n",
       "13  Population of the official age for secondary e...         219\n",
       "14                        Population, ages 0-14, male         219\n",
       "15  Population of the official age for upper secon...         219\n",
       "16                       Population, ages 0-14, total         219\n",
       "17  Population of the official age for upper secon...         219\n",
       "18                      Population, male (% of total)         219\n",
       "19                                   Population, male         219\n",
       "20                      Population, ages 15-64, total         219\n",
       "21                    Population, female (% of total)         219\n",
       "22                       Population, ages 15-64, male         219\n",
       "23                     Population, ages 15-64, female         219\n",
       "24                Population, ages 15-64 (% of total)         219\n",
       "25  Population of the official age for pre-primary...         218\n",
       "26  Population of the official age for secondary e...         218\n",
       "27  Population of the official age for secondary e...         218\n",
       "28                                  GNI (current US$)         218\n",
       "29  Population of the official age for lower secon...         218"
      ]
     },
     "execution_count": 12,
     "metadata": {},
     "output_type": "execute_result"
    }
   ],
   "source": [
    "ddf = df3.groupby( df3[\"Indicator Name\"] )\\\n",
    "    .count()\\\n",
    "    .sort_values(by=col_min, ascending=False)\n",
    "\n",
    "df3_indic_fill = ddf[col_min].reset_index()\n",
    "df3_indic_fill.columns=[\"Indicator Name\", \"count_2010\"]\n",
    "df3_indic_fill.head(30)"
   ]
  },
  {
   "cell_type": "markdown",
   "metadata": {},
   "source": [
    "On sélectionne les indicateurs qui semblent pertinent."
   ]
  },
  {
   "cell_type": "code",
   "execution_count": 13,
   "metadata": {},
   "outputs": [
    {
     "data": {
      "text/plain": [
       "['Population, total',\n",
       " 'Population growth (annual %)',\n",
       " 'GDP at market prices (current US$)',\n",
       " 'GDP per capita (current US$)',\n",
       " 'Internet users (per 100 people)',\n",
       " 'GNI (current US$)']"
      ]
     },
     "execution_count": 13,
     "metadata": {},
     "output_type": "execute_result"
    }
   ],
   "source": [
    "select_ind = df3_indic_fill[\"Indicator Name\"][:4].tolist()\n",
    "select_ind.extend( [\"Internet users (per 100 people)\", \"GNI (current US$)\"] )\n",
    "select_ind"
   ]
  },
  {
   "cell_type": "code",
   "execution_count": 14,
   "metadata": {},
   "outputs": [],
   "source": [
    "indic_search = [c for c in df3_indic_fill[\"Indicator Name\"].str.lower() \n",
    " if ( (\"secondary\" in c) | (\"tertiary\" in c) | (\"population,\"in c) ) ]\n",
    "\n",
    "df3_search = (df3_indic_fill[ df3_indic_fill[\"Indicator Name\"]\\\n",
    "                .str.lower().isin(indic_search)] \\\n",
    "                .loc[df3_indic_fill[\"count_2010\"]>100, :]\n",
    "             )"
   ]
  },
  {
   "cell_type": "code",
   "execution_count": 15,
   "metadata": {},
   "outputs": [
    {
     "data": {
      "text/html": [
       "<div>\n",
       "<style scoped>\n",
       "    .dataframe tbody tr th:only-of-type {\n",
       "        vertical-align: middle;\n",
       "    }\n",
       "\n",
       "    .dataframe tbody tr th {\n",
       "        vertical-align: top;\n",
       "    }\n",
       "\n",
       "    .dataframe thead th {\n",
       "        text-align: right;\n",
       "    }\n",
       "</style>\n",
       "<table border=\"1\" class=\"dataframe\">\n",
       "  <thead>\n",
       "    <tr style=\"text-align: right;\">\n",
       "      <th></th>\n",
       "      <th>Indicator Name</th>\n",
       "      <th>count_2010</th>\n",
       "    </tr>\n",
       "  </thead>\n",
       "  <tbody>\n",
       "    <tr>\n",
       "      <th>0</th>\n",
       "      <td>Population, total</td>\n",
       "      <td>240</td>\n",
       "    </tr>\n",
       "    <tr>\n",
       "      <th>7</th>\n",
       "      <td>Total outbound internationally mobile tertiary...</td>\n",
       "      <td>222</td>\n",
       "    </tr>\n",
       "    <tr>\n",
       "      <th>8</th>\n",
       "      <td>Population of the official age for upper secon...</td>\n",
       "      <td>220</td>\n",
       "    </tr>\n",
       "    <tr>\n",
       "      <th>9</th>\n",
       "      <td>Population, female</td>\n",
       "      <td>219</td>\n",
       "    </tr>\n",
       "    <tr>\n",
       "      <th>10</th>\n",
       "      <td>Population, ages 0-14 (% of total)</td>\n",
       "      <td>219</td>\n",
       "    </tr>\n",
       "    <tr>\n",
       "      <th>...</th>\n",
       "      <td>...</td>\n",
       "      <td>...</td>\n",
       "    </tr>\n",
       "    <tr>\n",
       "      <th>246</th>\n",
       "      <td>Population, ages 10-17, male</td>\n",
       "      <td>181</td>\n",
       "    </tr>\n",
       "    <tr>\n",
       "      <th>247</th>\n",
       "      <td>Population, ages 10-17, total</td>\n",
       "      <td>181</td>\n",
       "    </tr>\n",
       "    <tr>\n",
       "      <th>248</th>\n",
       "      <td>Population, ages 10-18, female</td>\n",
       "      <td>181</td>\n",
       "    </tr>\n",
       "    <tr>\n",
       "      <th>249</th>\n",
       "      <td>Population, age 7, male</td>\n",
       "      <td>181</td>\n",
       "    </tr>\n",
       "    <tr>\n",
       "      <th>250</th>\n",
       "      <td>Population, age 8, male</td>\n",
       "      <td>181</td>\n",
       "    </tr>\n",
       "  </tbody>\n",
       "</table>\n",
       "<p>200 rows × 2 columns</p>\n",
       "</div>"
      ],
      "text/plain": [
       "                                        Indicator Name  count_2010\n",
       "0                                    Population, total         240\n",
       "7    Total outbound internationally mobile tertiary...         222\n",
       "8    Population of the official age for upper secon...         220\n",
       "9                                   Population, female         219\n",
       "10                  Population, ages 0-14 (% of total)         219\n",
       "..                                                 ...         ...\n",
       "246                       Population, ages 10-17, male         181\n",
       "247                      Population, ages 10-17, total         181\n",
       "248                     Population, ages 10-18, female         181\n",
       "249                            Population, age 7, male         181\n",
       "250                            Population, age 8, male         181\n",
       "\n",
       "[200 rows x 2 columns]"
      ]
     },
     "execution_count": 15,
     "metadata": {},
     "output_type": "execute_result"
    }
   ],
   "source": [
    "df3_search.head(200)"
   ]
  },
  {
   "cell_type": "code",
   "execution_count": 16,
   "metadata": {},
   "outputs": [],
   "source": [
    "indic_search = [ e for e in indic_search if not \"wittgenstein projection:\" in e ]"
   ]
  },
  {
   "cell_type": "code",
   "execution_count": 17,
   "metadata": {},
   "outputs": [
    {
     "data": {
      "text/html": [
       "<div>\n",
       "<style scoped>\n",
       "    .dataframe tbody tr th:only-of-type {\n",
       "        vertical-align: middle;\n",
       "    }\n",
       "\n",
       "    .dataframe tbody tr th {\n",
       "        vertical-align: top;\n",
       "    }\n",
       "\n",
       "    .dataframe thead th {\n",
       "        text-align: right;\n",
       "    }\n",
       "</style>\n",
       "<table border=\"1\" class=\"dataframe\">\n",
       "  <thead>\n",
       "    <tr style=\"text-align: right;\">\n",
       "      <th></th>\n",
       "      <th>Indicator Name</th>\n",
       "      <th>count_2010</th>\n",
       "    </tr>\n",
       "  </thead>\n",
       "  <tbody>\n",
       "    <tr>\n",
       "      <th>0</th>\n",
       "      <td>Population, total</td>\n",
       "      <td>240</td>\n",
       "    </tr>\n",
       "    <tr>\n",
       "      <th>7</th>\n",
       "      <td>Total outbound internationally mobile tertiary...</td>\n",
       "      <td>222</td>\n",
       "    </tr>\n",
       "    <tr>\n",
       "      <th>8</th>\n",
       "      <td>Population of the official age for upper secon...</td>\n",
       "      <td>220</td>\n",
       "    </tr>\n",
       "    <tr>\n",
       "      <th>9</th>\n",
       "      <td>Population, female</td>\n",
       "      <td>219</td>\n",
       "    </tr>\n",
       "    <tr>\n",
       "      <th>10</th>\n",
       "      <td>Population, ages 0-14 (% of total)</td>\n",
       "      <td>219</td>\n",
       "    </tr>\n",
       "    <tr>\n",
       "      <th>...</th>\n",
       "      <td>...</td>\n",
       "      <td>...</td>\n",
       "    </tr>\n",
       "    <tr>\n",
       "      <th>1300</th>\n",
       "      <td>Government expenditure in secondary institutio...</td>\n",
       "      <td>102</td>\n",
       "    </tr>\n",
       "    <tr>\n",
       "      <th>1301</th>\n",
       "      <td>Pupil-teacher ratio in upper secondary educati...</td>\n",
       "      <td>102</td>\n",
       "    </tr>\n",
       "    <tr>\n",
       "      <th>1303</th>\n",
       "      <td>Rate of out-of-school adolescents of lower sec...</td>\n",
       "      <td>101</td>\n",
       "    </tr>\n",
       "    <tr>\n",
       "      <th>1304</th>\n",
       "      <td>Rate of out-of-school adolescents of lower sec...</td>\n",
       "      <td>101</td>\n",
       "    </tr>\n",
       "    <tr>\n",
       "      <th>1305</th>\n",
       "      <td>Cumulative drop-out rate to the last grade of ...</td>\n",
       "      <td>101</td>\n",
       "    </tr>\n",
       "  </tbody>\n",
       "</table>\n",
       "<p>608 rows × 2 columns</p>\n",
       "</div>"
      ],
      "text/plain": [
       "                                         Indicator Name  count_2010\n",
       "0                                     Population, total         240\n",
       "7     Total outbound internationally mobile tertiary...         222\n",
       "8     Population of the official age for upper secon...         220\n",
       "9                                    Population, female         219\n",
       "10                   Population, ages 0-14 (% of total)         219\n",
       "...                                                 ...         ...\n",
       "1300  Government expenditure in secondary institutio...         102\n",
       "1301  Pupil-teacher ratio in upper secondary educati...         102\n",
       "1303  Rate of out-of-school adolescents of lower sec...         101\n",
       "1304  Rate of out-of-school adolescents of lower sec...         101\n",
       "1305  Cumulative drop-out rate to the last grade of ...         101\n",
       "\n",
       "[608 rows x 2 columns]"
      ]
     },
     "execution_count": 17,
     "metadata": {},
     "output_type": "execute_result"
    }
   ],
   "source": [
    "df3_search = df3_search[ df3_search[\"Indicator Name\"].str.lower().isin(indic_search)]\n",
    "df3_search   "
   ]
  },
  {
   "cell_type": "markdown",
   "metadata": {},
   "source": [
    "Choix des indicateurs"
   ]
  },
  {
   "cell_type": "code",
   "execution_count": 18,
   "metadata": {},
   "outputs": [],
   "source": [
    "select_ind.extend(\n",
    "[\"Population of the official age for secondary education, both sexes (number)\",\n",
    " \"Population of the official age for tertiary education, both sexes (number)\",\n",
    " \"Enrolment in secondary general, both sexes (number)\",\n",
    " \"Enrolment in tertiary education, all programmes, both sexes (number)\",\n",
    " \"Population, ages 15-64, total\",\n",
    " \"Population, ages 13-19, total\"]\n",
    ")"
   ]
  },
  {
   "cell_type": "code",
   "execution_count": 19,
   "metadata": {},
   "outputs": [
    {
     "data": {
      "text/plain": [
       "['Population, total',\n",
       " 'Population growth (annual %)',\n",
       " 'GDP at market prices (current US$)',\n",
       " 'GDP per capita (current US$)',\n",
       " 'Internet users (per 100 people)',\n",
       " 'GNI (current US$)',\n",
       " 'Population of the official age for secondary education, both sexes (number)',\n",
       " 'Population of the official age for tertiary education, both sexes (number)',\n",
       " 'Enrolment in secondary general, both sexes (number)',\n",
       " 'Enrolment in tertiary education, all programmes, both sexes (number)',\n",
       " 'Population, ages 15-64, total',\n",
       " 'Population, ages 13-19, total']"
      ]
     },
     "execution_count": 19,
     "metadata": {},
     "output_type": "execute_result"
    }
   ],
   "source": [
    "select_ind"
   ]
  },
  {
   "cell_type": "code",
   "execution_count": 20,
   "metadata": {},
   "outputs": [],
   "source": [
    "sel_df3 = df3[ df3[\"Indicator Name\"].isin(select_ind) ]\\\n",
    "            .drop(columns=[\"Unnamed: 69\"])"
   ]
  },
  {
   "cell_type": "code",
   "execution_count": 21,
   "metadata": {},
   "outputs": [
    {
     "data": {
      "text/html": [
       "<div>\n",
       "<style scoped>\n",
       "    .dataframe tbody tr th:only-of-type {\n",
       "        vertical-align: middle;\n",
       "    }\n",
       "\n",
       "    .dataframe tbody tr th {\n",
       "        vertical-align: top;\n",
       "    }\n",
       "\n",
       "    .dataframe thead th {\n",
       "        text-align: right;\n",
       "    }\n",
       "</style>\n",
       "<table border=\"1\" class=\"dataframe\">\n",
       "  <thead>\n",
       "    <tr style=\"text-align: right;\">\n",
       "      <th></th>\n",
       "      <th>Country Name</th>\n",
       "      <th>Country Code</th>\n",
       "      <th>Indicator Name</th>\n",
       "      <th>Indicator Code</th>\n",
       "      <th>1970</th>\n",
       "      <th>1971</th>\n",
       "      <th>1972</th>\n",
       "      <th>1973</th>\n",
       "      <th>1974</th>\n",
       "      <th>1975</th>\n",
       "      <th>...</th>\n",
       "      <th>2055</th>\n",
       "      <th>2060</th>\n",
       "      <th>2065</th>\n",
       "      <th>2070</th>\n",
       "      <th>2075</th>\n",
       "      <th>2080</th>\n",
       "      <th>2085</th>\n",
       "      <th>2090</th>\n",
       "      <th>2095</th>\n",
       "      <th>2100</th>\n",
       "    </tr>\n",
       "  </thead>\n",
       "  <tbody>\n",
       "    <tr>\n",
       "      <th>0</th>\n",
       "      <td>0.0</td>\n",
       "      <td>0.0</td>\n",
       "      <td>0.0</td>\n",
       "      <td>0.0</td>\n",
       "      <td>0.416667</td>\n",
       "      <td>0.352617</td>\n",
       "      <td>0.354339</td>\n",
       "      <td>0.353994</td>\n",
       "      <td>0.356405</td>\n",
       "      <td>0.355028</td>\n",
       "      <td>...</td>\n",
       "      <td>1.0</td>\n",
       "      <td>1.0</td>\n",
       "      <td>1.0</td>\n",
       "      <td>1.0</td>\n",
       "      <td>1.0</td>\n",
       "      <td>1.0</td>\n",
       "      <td>1.0</td>\n",
       "      <td>1.0</td>\n",
       "      <td>1.0</td>\n",
       "      <td>1.0</td>\n",
       "    </tr>\n",
       "  </tbody>\n",
       "</table>\n",
       "<p>1 rows × 69 columns</p>\n",
       "</div>"
      ],
      "text/plain": [
       "   Country Name  Country Code  Indicator Name  Indicator Code      1970  \\\n",
       "0           0.0           0.0             0.0             0.0  0.416667   \n",
       "\n",
       "       1971      1972      1973      1974      1975  ...  2055  2060  2065  \\\n",
       "0  0.352617  0.354339  0.353994  0.356405  0.355028  ...   1.0   1.0   1.0   \n",
       "\n",
       "   2070  2075  2080  2085  2090  2095  2100  \n",
       "0   1.0   1.0   1.0   1.0   1.0   1.0   1.0  \n",
       "\n",
       "[1 rows x 69 columns]"
      ]
     },
     "execution_count": 21,
     "metadata": {},
     "output_type": "execute_result"
    }
   ],
   "source": [
    "# Computing the Null values per column after indocator selection\n",
    "null_rate2 = pd.DataFrame( data=sel_df3.isna().sum().values.reshape(1,-1)/len(sel_df3), \n",
    "             columns=sel_df3.columns )\n",
    "null_rate2"
   ]
  },
  {
   "cell_type": "markdown",
   "metadata": {},
   "source": [
    "On regarde à nouveau les valeurs manquantes"
   ]
  },
  {
   "cell_type": "code",
   "execution_count": 22,
   "metadata": {},
   "outputs": [
    {
     "data": {
      "image/png": "[encoded data removed]",
      "text/plain": [
       "<Figure size 2160x720 with 1 Axes>"
      ]
     },
     "metadata": {
      "needs_background": "light"
     },
     "output_type": "display_data"
    }
   ],
   "source": [
    "fig, ax = plt.subplots()\n",
    "sns.barplot( data=null_rate2, color = 'blue')\n",
    "ax.tick_params(axis='x', rotation=90)"
   ]
  },
  {
   "cell_type": "markdown",
   "metadata": {},
   "source": [
    "Sélection des colonnes pertinantes"
   ]
  },
  {
   "cell_type": "code",
   "execution_count": 23,
   "metadata": {},
   "outputs": [
    {
     "data": {
      "text/plain": [
       "['Country Name',\n",
       " 'Country Code',\n",
       " 'Indicator Name',\n",
       " 'Indicator Code',\n",
       " '1999',\n",
       " '2000',\n",
       " '2001',\n",
       " '2002',\n",
       " '2003',\n",
       " '2004',\n",
       " '2005',\n",
       " '2006',\n",
       " '2007',\n",
       " '2008',\n",
       " '2009',\n",
       " '2010',\n",
       " '2011',\n",
       " '2012',\n",
       " '2013',\n",
       " '2014']"
      ]
     },
     "execution_count": 23,
     "metadata": {},
     "output_type": "execute_result"
    }
   ],
   "source": [
    "# Selecting columns with null values less than the threshold.\n",
    "sel_cols=[ x for x in null_rate2.columns if null_rate2.loc[0,x]<.15 ]\n",
    "sel_cols  "
   ]
  },
  {
   "cell_type": "code",
   "execution_count": 24,
   "metadata": {
    "scrolled": true
   },
   "outputs": [
    {
     "data": {
      "text/html": [
       "<div>\n",
       "<style scoped>\n",
       "    .dataframe tbody tr th:only-of-type {\n",
       "        vertical-align: middle;\n",
       "    }\n",
       "\n",
       "    .dataframe tbody tr th {\n",
       "        vertical-align: top;\n",
       "    }\n",
       "\n",
       "    .dataframe thead th {\n",
       "        text-align: right;\n",
       "    }\n",
       "</style>\n",
       "<table border=\"1\" class=\"dataframe\">\n",
       "  <thead>\n",
       "    <tr style=\"text-align: right;\">\n",
       "      <th></th>\n",
       "      <th>Country Name</th>\n",
       "      <th>Country Code</th>\n",
       "      <th>Indicator Name</th>\n",
       "      <th>Indicator Code</th>\n",
       "      <th>1999</th>\n",
       "      <th>2000</th>\n",
       "      <th>2001</th>\n",
       "      <th>2002</th>\n",
       "      <th>2003</th>\n",
       "      <th>2004</th>\n",
       "      <th>2005</th>\n",
       "      <th>2006</th>\n",
       "      <th>2007</th>\n",
       "      <th>2008</th>\n",
       "      <th>2009</th>\n",
       "      <th>2010</th>\n",
       "      <th>2011</th>\n",
       "      <th>2012</th>\n",
       "      <th>2013</th>\n",
       "      <th>2014</th>\n",
       "    </tr>\n",
       "  </thead>\n",
       "  <tbody>\n",
       "    <tr>\n",
       "      <th>1197</th>\n",
       "      <td>Arab World</td>\n",
       "      <td>ARB</td>\n",
       "      <td>Enrolment in secondary general, both sexes (nu...</td>\n",
       "      <td>SE.SEC.ENRL.GC</td>\n",
       "      <td>1.919889e+07</td>\n",
       "      <td>1.995524e+07</td>\n",
       "      <td>2.078723e+07</td>\n",
       "      <td>2.157428e+07</td>\n",
       "      <td>2.313734e+07</td>\n",
       "      <td>2.403455e+07</td>\n",
       "      <td>2.462060e+07</td>\n",
       "      <td>2.509795e+07</td>\n",
       "      <td>2.563687e+07</td>\n",
       "      <td>2.615166e+07</td>\n",
       "      <td>2.696901e+07</td>\n",
       "      <td>2.748319e+07</td>\n",
       "      <td>2.837384e+07</td>\n",
       "      <td>2.876566e+07</td>\n",
       "      <td>2.820554e+07</td>\n",
       "      <td>28054448.0</td>\n",
       "    </tr>\n",
       "    <tr>\n",
       "      <th>1204</th>\n",
       "      <td>Arab World</td>\n",
       "      <td>ARB</td>\n",
       "      <td>Enrolment in tertiary education, all programme...</td>\n",
       "      <td>SE.TER.ENRL</td>\n",
       "      <td>4.875952e+06</td>\n",
       "      <td>5.089854e+06</td>\n",
       "      <td>5.400639e+06</td>\n",
       "      <td>5.798696e+06</td>\n",
       "      <td>5.955514e+06</td>\n",
       "      <td>6.465715e+06</td>\n",
       "      <td>6.899156e+06</td>\n",
       "      <td>7.214648e+06</td>\n",
       "      <td>7.588664e+06</td>\n",
       "      <td>8.006892e+06</td>\n",
       "      <td>8.382284e+06</td>\n",
       "      <td>8.715273e+06</td>\n",
       "      <td>8.594488e+06</td>\n",
       "      <td>9.147083e+06</td>\n",
       "      <td>9.688632e+06</td>\n",
       "      <td>9966484.0</td>\n",
       "    </tr>\n",
       "    <tr>\n",
       "      <th>1243</th>\n",
       "      <td>Arab World</td>\n",
       "      <td>ARB</td>\n",
       "      <td>GDP at market prices (current US$)</td>\n",
       "      <td>NY.GDP.MKTP.CD</td>\n",
       "      <td>6.341186e+11</td>\n",
       "      <td>7.260126e+11</td>\n",
       "      <td>7.130072e+11</td>\n",
       "      <td>7.240099e+11</td>\n",
       "      <td>8.155385e+11</td>\n",
       "      <td>9.594050e+11</td>\n",
       "      <td>1.176100e+12</td>\n",
       "      <td>1.399823e+12</td>\n",
       "      <td>1.638669e+12</td>\n",
       "      <td>2.079571e+12</td>\n",
       "      <td>1.791753e+12</td>\n",
       "      <td>2.097884e+12</td>\n",
       "      <td>2.487905e+12</td>\n",
       "      <td>2.744381e+12</td>\n",
       "      <td>2.853079e+12</td>\n",
       "      <td>NaN</td>\n",
       "    </tr>\n",
       "  </tbody>\n",
       "</table>\n",
       "</div>"
      ],
      "text/plain": [
       "     Country Name Country Code  \\\n",
       "1197   Arab World          ARB   \n",
       "1204   Arab World          ARB   \n",
       "1243   Arab World          ARB   \n",
       "\n",
       "                                         Indicator Name  Indicator Code  \\\n",
       "1197  Enrolment in secondary general, both sexes (nu...  SE.SEC.ENRL.GC   \n",
       "1204  Enrolment in tertiary education, all programme...     SE.TER.ENRL   \n",
       "1243                 GDP at market prices (current US$)  NY.GDP.MKTP.CD   \n",
       "\n",
       "              1999          2000          2001          2002          2003  \\\n",
       "1197  1.919889e+07  1.995524e+07  2.078723e+07  2.157428e+07  2.313734e+07   \n",
       "1204  4.875952e+06  5.089854e+06  5.400639e+06  5.798696e+06  5.955514e+06   \n",
       "1243  6.341186e+11  7.260126e+11  7.130072e+11  7.240099e+11  8.155385e+11   \n",
       "\n",
       "              2004          2005          2006          2007          2008  \\\n",
       "1197  2.403455e+07  2.462060e+07  2.509795e+07  2.563687e+07  2.615166e+07   \n",
       "1204  6.465715e+06  6.899156e+06  7.214648e+06  7.588664e+06  8.006892e+06   \n",
       "1243  9.594050e+11  1.176100e+12  1.399823e+12  1.638669e+12  2.079571e+12   \n",
       "\n",
       "              2009          2010          2011          2012          2013  \\\n",
       "1197  2.696901e+07  2.748319e+07  2.837384e+07  2.876566e+07  2.820554e+07   \n",
       "1204  8.382284e+06  8.715273e+06  8.594488e+06  9.147083e+06  9.688632e+06   \n",
       "1243  1.791753e+12  2.097884e+12  2.487905e+12  2.744381e+12  2.853079e+12   \n",
       "\n",
       "            2014  \n",
       "1197  28054448.0  \n",
       "1204   9966484.0  \n",
       "1243         NaN  "
      ]
     },
     "execution_count": 24,
     "metadata": {},
     "output_type": "execute_result"
    }
   ],
   "source": [
    "# Recalculating the sub-sample.\n",
    "sel_df3 = sel_df3[sel_cols]\n",
    "sel_df3.head(3)"
   ]
  },
  {
   "cell_type": "markdown",
   "metadata": {},
   "source": [
    "## Suppression des doublons"
   ]
  },
  {
   "cell_type": "code",
   "execution_count": 25,
   "metadata": {},
   "outputs": [
    {
     "data": {
      "text/plain": [
       "(2904, 2904)"
      ]
     },
     "execution_count": 25,
     "metadata": {},
     "output_type": "execute_result"
    }
   ],
   "source": [
    "len(sel_df3), len(sel_df3.drop_duplicates())"
   ]
  },
  {
   "cell_type": "markdown",
   "metadata": {},
   "source": [
    "## Examen des valeurs\n",
    "\n",
    "Nombre d'habitant, on limite le nombre de la population doit être supérieur à 1 millions"
   ]
  },
  {
   "cell_type": "code",
   "execution_count": 26,
   "metadata": {},
   "outputs": [],
   "source": [
    "pop_info = sel_df3.loc[\n",
    "    (sel_df3[\"Indicator Name\"]=='Population, total') & (sel_df3[\"2010\"]>1.e6), \n",
    "    [\"Country Name\", \"Country Code\", \"Indicator Name\",\n",
    "     \"Indicator Code\", \"2014\"]]\n",
    "pop_info = pop_info.sort_values(by=[\"2014\"], ascending=False)"
   ]
  },
  {
   "cell_type": "code",
   "execution_count": 27,
   "metadata": {},
   "outputs": [
    {
     "data": {
      "image/png": "[encoded data removed]",
      "text/plain": [
       "<Figure size 2160x720 with 1 Axes>"
      ]
     },
     "metadata": {
      "needs_background": "light"
     },
     "output_type": "display_data"
    }
   ],
   "source": [
    "fig, ax = plt.subplots()\n",
    "\n",
    "sns.barplot( data=pop_info, x=\"Country Name\", y=\"2014\", color = 'blue' )\n",
    "ax.tick_params(axis='x', rotation=90)\n",
    "#pop_info"
   ]
  },
  {
   "cell_type": "markdown",
   "metadata": {},
   "source": [
    "Scoring\n",
    "==="
   ]
  },
  {
   "cell_type": "markdown",
   "metadata": {},
   "source": [
    "On comble les valeurs manquantes en reportant les valeurs manquantes sur l'années précédentes."
   ]
  },
  {
   "cell_type": "code",
   "execution_count": 28,
   "metadata": {},
   "outputs": [
    {
     "data": {
      "text/html": [
       "<div>\n",
       "<style scoped>\n",
       "    .dataframe tbody tr th:only-of-type {\n",
       "        vertical-align: middle;\n",
       "    }\n",
       "\n",
       "    .dataframe tbody tr th {\n",
       "        vertical-align: top;\n",
       "    }\n",
       "\n",
       "    .dataframe thead th {\n",
       "        text-align: right;\n",
       "    }\n",
       "</style>\n",
       "<table border=\"1\" class=\"dataframe\">\n",
       "  <thead>\n",
       "    <tr style=\"text-align: right;\">\n",
       "      <th></th>\n",
       "      <th>Country Name</th>\n",
       "      <th>Country Code</th>\n",
       "      <th>Indicator Name</th>\n",
       "      <th>Indicator Code</th>\n",
       "      <th>1999</th>\n",
       "      <th>2000</th>\n",
       "      <th>2001</th>\n",
       "      <th>2002</th>\n",
       "      <th>2003</th>\n",
       "      <th>2004</th>\n",
       "      <th>2005</th>\n",
       "      <th>2006</th>\n",
       "      <th>2007</th>\n",
       "      <th>2008</th>\n",
       "      <th>2009</th>\n",
       "      <th>2010</th>\n",
       "      <th>2011</th>\n",
       "      <th>2012</th>\n",
       "      <th>2013</th>\n",
       "      <th>2014</th>\n",
       "    </tr>\n",
       "  </thead>\n",
       "  <tbody>\n",
       "    <tr>\n",
       "      <th>1197</th>\n",
       "      <td>Arab World</td>\n",
       "      <td>ARB</td>\n",
       "      <td>Enrolment in secondary general, both sexes (nu...</td>\n",
       "      <td>SE.SEC.ENRL.GC</td>\n",
       "      <td>1.919889e+07</td>\n",
       "      <td>1.995524e+07</td>\n",
       "      <td>2.078723e+07</td>\n",
       "      <td>2.157428e+07</td>\n",
       "      <td>2.313734e+07</td>\n",
       "      <td>2.403455e+07</td>\n",
       "      <td>2.462060e+07</td>\n",
       "      <td>2.509795e+07</td>\n",
       "      <td>2.563687e+07</td>\n",
       "      <td>2.615166e+07</td>\n",
       "      <td>2.696901e+07</td>\n",
       "      <td>2.748319e+07</td>\n",
       "      <td>2.837384e+07</td>\n",
       "      <td>2.876566e+07</td>\n",
       "      <td>2.820554e+07</td>\n",
       "      <td>28054448.0</td>\n",
       "    </tr>\n",
       "    <tr>\n",
       "      <th>1204</th>\n",
       "      <td>Arab World</td>\n",
       "      <td>ARB</td>\n",
       "      <td>Enrolment in tertiary education, all programme...</td>\n",
       "      <td>SE.TER.ENRL</td>\n",
       "      <td>4.875952e+06</td>\n",
       "      <td>5.089854e+06</td>\n",
       "      <td>5.400639e+06</td>\n",
       "      <td>5.798696e+06</td>\n",
       "      <td>5.955514e+06</td>\n",
       "      <td>6.465715e+06</td>\n",
       "      <td>6.899156e+06</td>\n",
       "      <td>7.214648e+06</td>\n",
       "      <td>7.588664e+06</td>\n",
       "      <td>8.006892e+06</td>\n",
       "      <td>8.382284e+06</td>\n",
       "      <td>8.715273e+06</td>\n",
       "      <td>8.594488e+06</td>\n",
       "      <td>9.147083e+06</td>\n",
       "      <td>9.688632e+06</td>\n",
       "      <td>9966484.0</td>\n",
       "    </tr>\n",
       "    <tr>\n",
       "      <th>1243</th>\n",
       "      <td>Arab World</td>\n",
       "      <td>ARB</td>\n",
       "      <td>GDP at market prices (current US$)</td>\n",
       "      <td>NY.GDP.MKTP.CD</td>\n",
       "      <td>6.341186e+11</td>\n",
       "      <td>7.260126e+11</td>\n",
       "      <td>7.130072e+11</td>\n",
       "      <td>7.240099e+11</td>\n",
       "      <td>8.155385e+11</td>\n",
       "      <td>9.594050e+11</td>\n",
       "      <td>1.176100e+12</td>\n",
       "      <td>1.399823e+12</td>\n",
       "      <td>1.638669e+12</td>\n",
       "      <td>2.079571e+12</td>\n",
       "      <td>1.791753e+12</td>\n",
       "      <td>2.097884e+12</td>\n",
       "      <td>2.487905e+12</td>\n",
       "      <td>2.744381e+12</td>\n",
       "      <td>2.853079e+12</td>\n",
       "      <td>NaN</td>\n",
       "    </tr>\n",
       "  </tbody>\n",
       "</table>\n",
       "</div>"
      ],
      "text/plain": [
       "     Country Name Country Code  \\\n",
       "1197   Arab World          ARB   \n",
       "1204   Arab World          ARB   \n",
       "1243   Arab World          ARB   \n",
       "\n",
       "                                         Indicator Name  Indicator Code  \\\n",
       "1197  Enrolment in secondary general, both sexes (nu...  SE.SEC.ENRL.GC   \n",
       "1204  Enrolment in tertiary education, all programme...     SE.TER.ENRL   \n",
       "1243                 GDP at market prices (current US$)  NY.GDP.MKTP.CD   \n",
       "\n",
       "              1999          2000          2001          2002          2003  \\\n",
       "1197  1.919889e+07  1.995524e+07  2.078723e+07  2.157428e+07  2.313734e+07   \n",
       "1204  4.875952e+06  5.089854e+06  5.400639e+06  5.798696e+06  5.955514e+06   \n",
       "1243  6.341186e+11  7.260126e+11  7.130072e+11  7.240099e+11  8.155385e+11   \n",
       "\n",
       "              2004          2005          2006          2007          2008  \\\n",
       "1197  2.403455e+07  2.462060e+07  2.509795e+07  2.563687e+07  2.615166e+07   \n",
       "1204  6.465715e+06  6.899156e+06  7.214648e+06  7.588664e+06  8.006892e+06   \n",
       "1243  9.594050e+11  1.176100e+12  1.399823e+12  1.638669e+12  2.079571e+12   \n",
       "\n",
       "              2009          2010          2011          2012          2013  \\\n",
       "1197  2.696901e+07  2.748319e+07  2.837384e+07  2.876566e+07  2.820554e+07   \n",
       "1204  8.382284e+06  8.715273e+06  8.594488e+06  9.147083e+06  9.688632e+06   \n",
       "1243  1.791753e+12  2.097884e+12  2.487905e+12  2.744381e+12  2.853079e+12   \n",
       "\n",
       "            2014  \n",
       "1197  28054448.0  \n",
       "1204   9966484.0  \n",
       "1243         NaN  "
      ]
     },
     "execution_count": 28,
     "metadata": {},
     "output_type": "execute_result"
    }
   ],
   "source": [
    "data = sel_df3.copy()\n",
    "data = data.dropna(thresh=int(len(data.columns)/2))\n",
    "data.head(3)"
   ]
  },
  {
   "cell_type": "markdown",
   "metadata": {},
   "source": [
    "On prend la dernière année en référence"
   ]
  },
  {
   "cell_type": "code",
   "execution_count": 29,
   "metadata": {},
   "outputs": [],
   "source": [
    "data[\"ref\"] = data[\"2014\"]"
   ]
  },
  {
   "cell_type": "code",
   "execution_count": 30,
   "metadata": {},
   "outputs": [
    {
     "data": {
      "text/plain": [
       "(['2014',\n",
       "  '2013',\n",
       "  '2012',\n",
       "  '2011',\n",
       "  '2010',\n",
       "  '2009',\n",
       "  '2008',\n",
       "  '2007',\n",
       "  '2006',\n",
       "  '2005',\n",
       "  '2004',\n",
       "  '2003',\n",
       "  '2002',\n",
       "  '2001',\n",
       "  '2000',\n",
       "  '1999'],\n",
       " 16)"
      ]
     },
     "execution_count": 30,
     "metadata": {},
     "output_type": "execute_result"
    }
   ],
   "source": [
    "cols = list(data.columns)[4:-1]\n",
    "cols = sorted(cols, reverse=True)\n",
    "cols, len(cols)"
   ]
  },
  {
   "cell_type": "code",
   "execution_count": 31,
   "metadata": {},
   "outputs": [],
   "source": [
    "# replacing the null values of the refrence by a the most recent data\n",
    "i = 0\n",
    "while data[\"ref\"].isnull().sum()>0  : \n",
    "    data[\"ref\"] = np.where( data[\"ref\"].isnull(), \n",
    "                       data[cols[i]], data[\"ref\"] )\n",
    "    i += 1\n",
    "    if( i == len(cols) ) : \n",
    "        print(\"All are nulls!\")\n",
    "        break"
   ]
  },
  {
   "cell_type": "code",
   "execution_count": 32,
   "metadata": {},
   "outputs": [
    {
     "data": {
      "text/plain": [
       "0"
      ]
     },
     "execution_count": 32,
     "metadata": {},
     "output_type": "execute_result"
    }
   ],
   "source": [
    "data[\"ref\"].isnull().sum()"
   ]
  },
  {
   "cell_type": "code",
   "execution_count": 33,
   "metadata": {},
   "outputs": [
    {
     "data": {
      "text/html": [
       "<div>\n",
       "<style scoped>\n",
       "    .dataframe tbody tr th:only-of-type {\n",
       "        vertical-align: middle;\n",
       "    }\n",
       "\n",
       "    .dataframe tbody tr th {\n",
       "        vertical-align: top;\n",
       "    }\n",
       "\n",
       "    .dataframe thead th {\n",
       "        text-align: right;\n",
       "    }\n",
       "</style>\n",
       "<table border=\"1\" class=\"dataframe\">\n",
       "  <thead>\n",
       "    <tr style=\"text-align: right;\">\n",
       "      <th></th>\n",
       "      <th>Country Name</th>\n",
       "      <th>Country Code</th>\n",
       "      <th>Indicator Name</th>\n",
       "      <th>Indicator Code</th>\n",
       "      <th>1999</th>\n",
       "      <th>2000</th>\n",
       "      <th>2001</th>\n",
       "      <th>2002</th>\n",
       "      <th>2003</th>\n",
       "      <th>2004</th>\n",
       "      <th>...</th>\n",
       "      <th>2006</th>\n",
       "      <th>2007</th>\n",
       "      <th>2008</th>\n",
       "      <th>2009</th>\n",
       "      <th>2010</th>\n",
       "      <th>2011</th>\n",
       "      <th>2012</th>\n",
       "      <th>2013</th>\n",
       "      <th>2014</th>\n",
       "      <th>ref</th>\n",
       "    </tr>\n",
       "  </thead>\n",
       "  <tbody>\n",
       "    <tr>\n",
       "      <th>1197</th>\n",
       "      <td>Arab World</td>\n",
       "      <td>ARB</td>\n",
       "      <td>Enrolment in secondary general, both sexes (nu...</td>\n",
       "      <td>SE.SEC.ENRL.GC</td>\n",
       "      <td>1.919889e+07</td>\n",
       "      <td>1.995524e+07</td>\n",
       "      <td>2.078723e+07</td>\n",
       "      <td>2.157428e+07</td>\n",
       "      <td>2.313734e+07</td>\n",
       "      <td>2.403455e+07</td>\n",
       "      <td>...</td>\n",
       "      <td>2.509795e+07</td>\n",
       "      <td>2.563687e+07</td>\n",
       "      <td>2.615166e+07</td>\n",
       "      <td>2.696901e+07</td>\n",
       "      <td>2.748319e+07</td>\n",
       "      <td>2.837384e+07</td>\n",
       "      <td>2.876566e+07</td>\n",
       "      <td>2.820554e+07</td>\n",
       "      <td>28054448.0</td>\n",
       "      <td>2.805445e+07</td>\n",
       "    </tr>\n",
       "    <tr>\n",
       "      <th>1204</th>\n",
       "      <td>Arab World</td>\n",
       "      <td>ARB</td>\n",
       "      <td>Enrolment in tertiary education, all programme...</td>\n",
       "      <td>SE.TER.ENRL</td>\n",
       "      <td>4.875952e+06</td>\n",
       "      <td>5.089854e+06</td>\n",
       "      <td>5.400639e+06</td>\n",
       "      <td>5.798696e+06</td>\n",
       "      <td>5.955514e+06</td>\n",
       "      <td>6.465715e+06</td>\n",
       "      <td>...</td>\n",
       "      <td>7.214648e+06</td>\n",
       "      <td>7.588664e+06</td>\n",
       "      <td>8.006892e+06</td>\n",
       "      <td>8.382284e+06</td>\n",
       "      <td>8.715273e+06</td>\n",
       "      <td>8.594488e+06</td>\n",
       "      <td>9.147083e+06</td>\n",
       "      <td>9.688632e+06</td>\n",
       "      <td>9966484.0</td>\n",
       "      <td>9.966484e+06</td>\n",
       "    </tr>\n",
       "    <tr>\n",
       "      <th>1243</th>\n",
       "      <td>Arab World</td>\n",
       "      <td>ARB</td>\n",
       "      <td>GDP at market prices (current US$)</td>\n",
       "      <td>NY.GDP.MKTP.CD</td>\n",
       "      <td>6.341186e+11</td>\n",
       "      <td>7.260126e+11</td>\n",
       "      <td>7.130072e+11</td>\n",
       "      <td>7.240099e+11</td>\n",
       "      <td>8.155385e+11</td>\n",
       "      <td>9.594050e+11</td>\n",
       "      <td>...</td>\n",
       "      <td>1.399823e+12</td>\n",
       "      <td>1.638669e+12</td>\n",
       "      <td>2.079571e+12</td>\n",
       "      <td>1.791753e+12</td>\n",
       "      <td>2.097884e+12</td>\n",
       "      <td>2.487905e+12</td>\n",
       "      <td>2.744381e+12</td>\n",
       "      <td>2.853079e+12</td>\n",
       "      <td>NaN</td>\n",
       "      <td>2.853079e+12</td>\n",
       "    </tr>\n",
       "  </tbody>\n",
       "</table>\n",
       "<p>3 rows × 21 columns</p>\n",
       "</div>"
      ],
      "text/plain": [
       "     Country Name Country Code  \\\n",
       "1197   Arab World          ARB   \n",
       "1204   Arab World          ARB   \n",
       "1243   Arab World          ARB   \n",
       "\n",
       "                                         Indicator Name  Indicator Code  \\\n",
       "1197  Enrolment in secondary general, both sexes (nu...  SE.SEC.ENRL.GC   \n",
       "1204  Enrolment in tertiary education, all programme...     SE.TER.ENRL   \n",
       "1243                 GDP at market prices (current US$)  NY.GDP.MKTP.CD   \n",
       "\n",
       "              1999          2000          2001          2002          2003  \\\n",
       "1197  1.919889e+07  1.995524e+07  2.078723e+07  2.157428e+07  2.313734e+07   \n",
       "1204  4.875952e+06  5.089854e+06  5.400639e+06  5.798696e+06  5.955514e+06   \n",
       "1243  6.341186e+11  7.260126e+11  7.130072e+11  7.240099e+11  8.155385e+11   \n",
       "\n",
       "              2004  ...          2006          2007          2008  \\\n",
       "1197  2.403455e+07  ...  2.509795e+07  2.563687e+07  2.615166e+07   \n",
       "1204  6.465715e+06  ...  7.214648e+06  7.588664e+06  8.006892e+06   \n",
       "1243  9.594050e+11  ...  1.399823e+12  1.638669e+12  2.079571e+12   \n",
       "\n",
       "              2009          2010          2011          2012          2013  \\\n",
       "1197  2.696901e+07  2.748319e+07  2.837384e+07  2.876566e+07  2.820554e+07   \n",
       "1204  8.382284e+06  8.715273e+06  8.594488e+06  9.147083e+06  9.688632e+06   \n",
       "1243  1.791753e+12  2.097884e+12  2.487905e+12  2.744381e+12  2.853079e+12   \n",
       "\n",
       "            2014           ref  \n",
       "1197  28054448.0  2.805445e+07  \n",
       "1204   9966484.0  9.966484e+06  \n",
       "1243         NaN  2.853079e+12  \n",
       "\n",
       "[3 rows x 21 columns]"
      ]
     },
     "execution_count": 33,
     "metadata": {},
     "output_type": "execute_result"
    }
   ],
   "source": [
    "data.head(3)"
   ]
  },
  {
   "cell_type": "markdown",
   "metadata": {},
   "source": [
    "On regarde les différents pays selon la taille de la population"
   ]
  },
  {
   "cell_type": "code",
   "execution_count": 34,
   "metadata": {},
   "outputs": [
    {
     "data": {
      "text/html": [
       "<div>\n",
       "<style scoped>\n",
       "    .dataframe tbody tr th:only-of-type {\n",
       "        vertical-align: middle;\n",
       "    }\n",
       "\n",
       "    .dataframe tbody tr th {\n",
       "        vertical-align: top;\n",
       "    }\n",
       "\n",
       "    .dataframe thead th {\n",
       "        text-align: right;\n",
       "    }\n",
       "</style>\n",
       "<table border=\"1\" class=\"dataframe\">\n",
       "  <thead>\n",
       "    <tr style=\"text-align: right;\">\n",
       "      <th></th>\n",
       "      <th>Country Name</th>\n",
       "      <th>ref</th>\n",
       "    </tr>\n",
       "  </thead>\n",
       "  <tbody>\n",
       "    <tr>\n",
       "      <th>0</th>\n",
       "      <td>World</td>\n",
       "      <td>7.268986e+09</td>\n",
       "    </tr>\n",
       "    <tr>\n",
       "      <th>1</th>\n",
       "      <td>Low &amp; middle income</td>\n",
       "      <td>6.093020e+09</td>\n",
       "    </tr>\n",
       "    <tr>\n",
       "      <th>2</th>\n",
       "      <td>Middle income</td>\n",
       "      <td>5.468260e+09</td>\n",
       "    </tr>\n",
       "    <tr>\n",
       "      <th>3</th>\n",
       "      <td>Lower middle income</td>\n",
       "      <td>2.927194e+09</td>\n",
       "    </tr>\n",
       "    <tr>\n",
       "      <th>4</th>\n",
       "      <td>Upper middle income</td>\n",
       "      <td>2.541065e+09</td>\n",
       "    </tr>\n",
       "    <tr>\n",
       "      <th>...</th>\n",
       "      <td>...</td>\n",
       "      <td>...</td>\n",
       "    </tr>\n",
       "    <tr>\n",
       "      <th>235</th>\n",
       "      <td>Turks and Caicos Islands</td>\n",
       "      <td>3.373900e+04</td>\n",
       "    </tr>\n",
       "    <tr>\n",
       "      <th>236</th>\n",
       "      <td>San Marino</td>\n",
       "      <td>3.265700e+04</td>\n",
       "    </tr>\n",
       "    <tr>\n",
       "      <th>237</th>\n",
       "      <td>St. Martin (French part)</td>\n",
       "      <td>3.126400e+04</td>\n",
       "    </tr>\n",
       "    <tr>\n",
       "      <th>238</th>\n",
       "      <td>Palau</td>\n",
       "      <td>2.109400e+04</td>\n",
       "    </tr>\n",
       "    <tr>\n",
       "      <th>239</th>\n",
       "      <td>Tuvalu</td>\n",
       "      <td>1.090800e+04</td>\n",
       "    </tr>\n",
       "  </tbody>\n",
       "</table>\n",
       "<p>240 rows × 2 columns</p>\n",
       "</div>"
      ],
      "text/plain": [
       "                 Country Name           ref\n",
       "0                       World  7.268986e+09\n",
       "1         Low & middle income  6.093020e+09\n",
       "2               Middle income  5.468260e+09\n",
       "3         Lower middle income  2.927194e+09\n",
       "4         Upper middle income  2.541065e+09\n",
       "..                        ...           ...\n",
       "235  Turks and Caicos Islands  3.373900e+04\n",
       "236                San Marino  3.265700e+04\n",
       "237  St. Martin (French part)  3.126400e+04\n",
       "238                     Palau  2.109400e+04\n",
       "239                    Tuvalu  1.090800e+04\n",
       "\n",
       "[240 rows x 2 columns]"
      ]
     },
     "execution_count": 34,
     "metadata": {},
     "output_type": "execute_result"
    }
   ],
   "source": [
    "pop_info = data.loc[data[\"Indicator Code\"]==\"SP.POP.TOTL\", \n",
    "                    [\"Country Name\", \"ref\"]]\\\n",
    "    .sort_values(by=\"ref\", ascending=False)\\\n",
    "    .reset_index(drop=True)\n",
    "pop_info"
   ]
  },
  {
   "cell_type": "markdown",
   "metadata": {},
   "source": [
    "On retire les pays de type \"monde\" etc"
   ]
  },
  {
   "cell_type": "code",
   "execution_count": 35,
   "metadata": {},
   "outputs": [
    {
     "data": {
      "text/plain": [
       "['World',\n",
       " 'Low & middle income',\n",
       " 'Middle income',\n",
       " 'Lower middle income',\n",
       " 'Upper middle income',\n",
       " 'East Asia & Pacific',\n",
       " 'East Asia & Pacific (excluding high income)',\n",
       " 'South Asia',\n",
       " 'OECD members',\n",
       " 'High income',\n",
       " 'Sub-Saharan Africa',\n",
       " 'Sub-Saharan Africa (excluding high income)',\n",
       " 'Least developed countries: UN classification',\n",
       " 'Europe & Central Asia',\n",
       " 'Heavily indebted poor countries (HIPC)',\n",
       " 'Low income',\n",
       " 'Latin America & Caribbean',\n",
       " 'Latin America & Caribbean (excluding high income)',\n",
       " 'European Union',\n",
       " 'Middle East & North Africa',\n",
       " 'Europe & Central Asia (excluding high income)',\n",
       " 'Arab World',\n",
       " 'Middle East & North Africa (excluding high income)',\n",
       " 'North America',\n",
       " 'Euro area']"
      ]
     },
     "execution_count": 35,
     "metadata": {},
     "output_type": "execute_result"
    }
   ],
   "source": [
    "regions = pop_info[\"Country Name\"][:8].to_list()\n",
    "regions.extend( pop_info[\"Country Name\"][10:27] )\n",
    "regions"
   ]
  },
  {
   "cell_type": "code",
   "execution_count": 36,
   "metadata": {},
   "outputs": [],
   "source": [
    "data_country = data[ ~data[\"Country Name\"].isin(regions)].copy()"
   ]
  },
  {
   "cell_type": "code",
   "execution_count": 37,
   "metadata": {},
   "outputs": [
    {
     "data": {
      "text/html": [
       "<div>\n",
       "<style scoped>\n",
       "    .dataframe tbody tr th:only-of-type {\n",
       "        vertical-align: middle;\n",
       "    }\n",
       "\n",
       "    .dataframe tbody tr th {\n",
       "        vertical-align: top;\n",
       "    }\n",
       "\n",
       "    .dataframe thead th {\n",
       "        text-align: right;\n",
       "    }\n",
       "</style>\n",
       "<table border=\"1\" class=\"dataframe\">\n",
       "  <thead>\n",
       "    <tr style=\"text-align: right;\">\n",
       "      <th></th>\n",
       "      <th>Country Name</th>\n",
       "      <th>Indicator Code</th>\n",
       "      <th>ref</th>\n",
       "    </tr>\n",
       "  </thead>\n",
       "  <tbody>\n",
       "    <tr>\n",
       "      <th>0</th>\n",
       "      <td>Afghanistan</td>\n",
       "      <td>SE.SEC.ENRL.GC</td>\n",
       "      <td>2.577715e+06</td>\n",
       "    </tr>\n",
       "    <tr>\n",
       "      <th>1</th>\n",
       "      <td>Afghanistan</td>\n",
       "      <td>NY.GDP.MKTP.CD</td>\n",
       "      <td>2.005019e+10</td>\n",
       "    </tr>\n",
       "    <tr>\n",
       "      <th>2</th>\n",
       "      <td>Afghanistan</td>\n",
       "      <td>NY.GDP.PCAP.CD</td>\n",
       "      <td>6.120697e+02</td>\n",
       "    </tr>\n",
       "    <tr>\n",
       "      <th>3</th>\n",
       "      <td>Afghanistan</td>\n",
       "      <td>NY.GNP.MKTP.CD</td>\n",
       "      <td>2.023030e+10</td>\n",
       "    </tr>\n",
       "    <tr>\n",
       "      <th>4</th>\n",
       "      <td>Afghanistan</td>\n",
       "      <td>IT.NET.USER.P2</td>\n",
       "      <td>7.000000e+00</td>\n",
       "    </tr>\n",
       "  </tbody>\n",
       "</table>\n",
       "</div>"
      ],
      "text/plain": [
       "  Country Name  Indicator Code           ref\n",
       "0  Afghanistan  SE.SEC.ENRL.GC  2.577715e+06\n",
       "1  Afghanistan  NY.GDP.MKTP.CD  2.005019e+10\n",
       "2  Afghanistan  NY.GDP.PCAP.CD  6.120697e+02\n",
       "3  Afghanistan  NY.GNP.MKTP.CD  2.023030e+10\n",
       "4  Afghanistan  IT.NET.USER.P2  7.000000e+00"
      ]
     },
     "execution_count": 37,
     "metadata": {},
     "output_type": "execute_result"
    }
   ],
   "source": [
    "piv_cols = [\"Country Name\", \"Indicator Code\", \"ref\"]\n",
    "data_piv = data_country[piv_cols].reset_index(drop=True)\n",
    "data_piv.head(5)"
   ]
  },
  {
   "cell_type": "markdown",
   "metadata": {},
   "source": [
    "On utilise la fonction \"pivot\" pour avoir les indicateurs en colonnes et l'année de références. Les lignes sont les pays. Ce fichier sera sauvegardé."
   ]
  },
  {
   "cell_type": "code",
   "execution_count": 38,
   "metadata": {},
   "outputs": [
    {
     "data": {
      "text/html": [
       "<div>\n",
       "<style scoped>\n",
       "    .dataframe tbody tr th:only-of-type {\n",
       "        vertical-align: middle;\n",
       "    }\n",
       "\n",
       "    .dataframe tbody tr th {\n",
       "        vertical-align: top;\n",
       "    }\n",
       "\n",
       "    .dataframe thead th {\n",
       "        text-align: right;\n",
       "    }\n",
       "</style>\n",
       "<table border=\"1\" class=\"dataframe\">\n",
       "  <thead>\n",
       "    <tr style=\"text-align: right;\">\n",
       "      <th>Indicator Code</th>\n",
       "      <th>Country Name</th>\n",
       "      <th>IT.NET.USER.P2</th>\n",
       "      <th>NY.GDP.MKTP.CD</th>\n",
       "      <th>NY.GDP.PCAP.CD</th>\n",
       "      <th>NY.GNP.MKTP.CD</th>\n",
       "      <th>SE.SEC.ENRL.GC</th>\n",
       "      <th>SE.TER.ENRL</th>\n",
       "      <th>SP.POP.1319.TO.UN</th>\n",
       "      <th>SP.POP.1564.TO</th>\n",
       "      <th>SP.POP.GROW</th>\n",
       "      <th>SP.POP.TOTL</th>\n",
       "      <th>SP.SEC.TOTL.IN</th>\n",
       "      <th>SP.TER.TOTL.IN</th>\n",
       "    </tr>\n",
       "  </thead>\n",
       "  <tbody>\n",
       "    <tr>\n",
       "      <th>0</th>\n",
       "      <td>Albania</td>\n",
       "      <td>60.100000</td>\n",
       "      <td>1.322824e+10</td>\n",
       "      <td>4578.666728</td>\n",
       "      <td>1.306987e+10</td>\n",
       "      <td>306610.0</td>\n",
       "      <td>173819.0</td>\n",
       "      <td>370794.0</td>\n",
       "      <td>1996460.0</td>\n",
       "      <td>-0.207047</td>\n",
       "      <td>2889104.0</td>\n",
       "      <td>345644.0</td>\n",
       "      <td>277193.0</td>\n",
       "    </tr>\n",
       "    <tr>\n",
       "      <th>1</th>\n",
       "      <td>Algeria</td>\n",
       "      <td>29.500000</td>\n",
       "      <td>2.138100e+11</td>\n",
       "      <td>5466.425778</td>\n",
       "      <td>2.091643e+11</td>\n",
       "      <td>4132124.0</td>\n",
       "      <td>1245478.0</td>\n",
       "      <td>4238070.0</td>\n",
       "      <td>25800849.0</td>\n",
       "      <td>2.000666</td>\n",
       "      <td>39113313.0</td>\n",
       "      <td>4140079.0</td>\n",
       "      <td>3600292.0</td>\n",
       "    </tr>\n",
       "    <tr>\n",
       "      <th>2</th>\n",
       "      <td>Angola</td>\n",
       "      <td>10.200000</td>\n",
       "      <td>1.267769e+11</td>\n",
       "      <td>4709.312024</td>\n",
       "      <td>1.179270e+11</td>\n",
       "      <td>484717.0</td>\n",
       "      <td>218679.0</td>\n",
       "      <td>3196084.0</td>\n",
       "      <td>13596360.0</td>\n",
       "      <td>3.485413</td>\n",
       "      <td>26920466.0</td>\n",
       "      <td>3430540.0</td>\n",
       "      <td>2286479.0</td>\n",
       "    </tr>\n",
       "    <tr>\n",
       "      <th>3</th>\n",
       "      <td>Argentina</td>\n",
       "      <td>64.700000</td>\n",
       "      <td>5.263197e+11</td>\n",
       "      <td>12245.256449</td>\n",
       "      <td>5.155829e+11</td>\n",
       "      <td>4450741.0</td>\n",
       "      <td>2869450.0</td>\n",
       "      <td>4784951.0</td>\n",
       "      <td>27440753.0</td>\n",
       "      <td>1.032709</td>\n",
       "      <td>42981515.0</td>\n",
       "      <td>4168223.0</td>\n",
       "      <td>3460613.0</td>\n",
       "    </tr>\n",
       "    <tr>\n",
       "      <th>4</th>\n",
       "      <td>Armenia</td>\n",
       "      <td>54.622806</td>\n",
       "      <td>1.160951e+10</td>\n",
       "      <td>3994.712355</td>\n",
       "      <td>1.215031e+10</td>\n",
       "      <td>217929.0</td>\n",
       "      <td>113090.0</td>\n",
       "      <td>268682.0</td>\n",
       "      <td>2017975.0</td>\n",
       "      <td>0.438332</td>\n",
       "      <td>2906220.0</td>\n",
       "      <td>324164.0</td>\n",
       "      <td>255544.0</td>\n",
       "    </tr>\n",
       "  </tbody>\n",
       "</table>\n",
       "</div>"
      ],
      "text/plain": [
       "Indicator Code Country Name  IT.NET.USER.P2  NY.GDP.MKTP.CD  NY.GDP.PCAP.CD  \\\n",
       "0                   Albania       60.100000    1.322824e+10     4578.666728   \n",
       "1                   Algeria       29.500000    2.138100e+11     5466.425778   \n",
       "2                    Angola       10.200000    1.267769e+11     4709.312024   \n",
       "3                 Argentina       64.700000    5.263197e+11    12245.256449   \n",
       "4                   Armenia       54.622806    1.160951e+10     3994.712355   \n",
       "\n",
       "Indicator Code  NY.GNP.MKTP.CD  SE.SEC.ENRL.GC  SE.TER.ENRL  \\\n",
       "0                 1.306987e+10        306610.0     173819.0   \n",
       "1                 2.091643e+11       4132124.0    1245478.0   \n",
       "2                 1.179270e+11        484717.0     218679.0   \n",
       "3                 5.155829e+11       4450741.0    2869450.0   \n",
       "4                 1.215031e+10        217929.0     113090.0   \n",
       "\n",
       "Indicator Code  SP.POP.1319.TO.UN  SP.POP.1564.TO  SP.POP.GROW  SP.POP.TOTL  \\\n",
       "0                        370794.0       1996460.0    -0.207047    2889104.0   \n",
       "1                       4238070.0      25800849.0     2.000666   39113313.0   \n",
       "2                       3196084.0      13596360.0     3.485413   26920466.0   \n",
       "3                       4784951.0      27440753.0     1.032709   42981515.0   \n",
       "4                        268682.0       2017975.0     0.438332    2906220.0   \n",
       "\n",
       "Indicator Code  SP.SEC.TOTL.IN  SP.TER.TOTL.IN  \n",
       "0                     345644.0        277193.0  \n",
       "1                    4140079.0       3600292.0  \n",
       "2                    3430540.0       2286479.0  \n",
       "3                    4168223.0       3460613.0  \n",
       "4                     324164.0        255544.0  "
      ]
     },
     "execution_count": 38,
     "metadata": {},
     "output_type": "execute_result"
    }
   ],
   "source": [
    "data_ref = pd.pivot(data_piv, \n",
    "                    index=\"Country Name\", \n",
    "                    columns=\"Indicator Code\",\n",
    "                    values=\"ref\")\\\n",
    "            .dropna()\\\n",
    "            .reset_index()\n",
    "data_ref.head()"
   ]
  },
  {
   "cell_type": "markdown",
   "metadata": {},
   "source": [
    "## Construction du deuxième fichier"
   ]
  },
  {
   "cell_type": "markdown",
   "metadata": {},
   "source": [
    "On supprime les doublons"
   ]
  },
  {
   "cell_type": "code",
   "execution_count": 39,
   "metadata": {},
   "outputs": [
    {
     "data": {
      "text/html": [
       "<div>\n",
       "<style scoped>\n",
       "    .dataframe tbody tr th:only-of-type {\n",
       "        vertical-align: middle;\n",
       "    }\n",
       "\n",
       "    .dataframe tbody tr th {\n",
       "        vertical-align: top;\n",
       "    }\n",
       "\n",
       "    .dataframe thead th {\n",
       "        text-align: right;\n",
       "    }\n",
       "</style>\n",
       "<table border=\"1\" class=\"dataframe\">\n",
       "  <thead>\n",
       "    <tr style=\"text-align: right;\">\n",
       "      <th></th>\n",
       "      <th>Indicator Code</th>\n",
       "      <th>Indicator Name</th>\n",
       "    </tr>\n",
       "  </thead>\n",
       "  <tbody>\n",
       "    <tr>\n",
       "      <th>1197</th>\n",
       "      <td>SE.SEC.ENRL.GC</td>\n",
       "      <td>Enrolment in secondary general, both sexes (nu...</td>\n",
       "    </tr>\n",
       "    <tr>\n",
       "      <th>1204</th>\n",
       "      <td>SE.TER.ENRL</td>\n",
       "      <td>Enrolment in tertiary education, all programme...</td>\n",
       "    </tr>\n",
       "    <tr>\n",
       "      <th>1243</th>\n",
       "      <td>NY.GDP.MKTP.CD</td>\n",
       "      <td>GDP at market prices (current US$)</td>\n",
       "    </tr>\n",
       "    <tr>\n",
       "      <th>1245</th>\n",
       "      <td>NY.GDP.PCAP.CD</td>\n",
       "      <td>GDP per capita (current US$)</td>\n",
       "    </tr>\n",
       "    <tr>\n",
       "      <th>1250</th>\n",
       "      <td>NY.GNP.MKTP.CD</td>\n",
       "      <td>GNI (current US$)</td>\n",
       "    </tr>\n",
       "    <tr>\n",
       "      <th>1375</th>\n",
       "      <td>IT.NET.USER.P2</td>\n",
       "      <td>Internet users (per 100 people)</td>\n",
       "    </tr>\n",
       "    <tr>\n",
       "      <th>2307</th>\n",
       "      <td>SP.POP.GROW</td>\n",
       "      <td>Population growth (annual %)</td>\n",
       "    </tr>\n",
       "    <tr>\n",
       "      <th>2323</th>\n",
       "      <td>SP.SEC.TOTL.IN</td>\n",
       "      <td>Population of the official age for secondary e...</td>\n",
       "    </tr>\n",
       "    <tr>\n",
       "      <th>2326</th>\n",
       "      <td>SP.TER.TOTL.IN</td>\n",
       "      <td>Population of the official age for tertiary ed...</td>\n",
       "    </tr>\n",
       "    <tr>\n",
       "      <th>2486</th>\n",
       "      <td>SP.POP.1564.TO</td>\n",
       "      <td>Population, ages 15-64, total</td>\n",
       "    </tr>\n",
       "    <tr>\n",
       "      <th>2533</th>\n",
       "      <td>SP.POP.TOTL</td>\n",
       "      <td>Population, total</td>\n",
       "    </tr>\n",
       "    <tr>\n",
       "      <th>94098</th>\n",
       "      <td>SP.POP.1319.TO.UN</td>\n",
       "      <td>Population, ages 13-19, total</td>\n",
       "    </tr>\n",
       "  </tbody>\n",
       "</table>\n",
       "</div>"
      ],
      "text/plain": [
       "          Indicator Code                                     Indicator Name\n",
       "1197      SE.SEC.ENRL.GC  Enrolment in secondary general, both sexes (nu...\n",
       "1204         SE.TER.ENRL  Enrolment in tertiary education, all programme...\n",
       "1243      NY.GDP.MKTP.CD                 GDP at market prices (current US$)\n",
       "1245      NY.GDP.PCAP.CD                       GDP per capita (current US$)\n",
       "1250      NY.GNP.MKTP.CD                                  GNI (current US$)\n",
       "1375      IT.NET.USER.P2                    Internet users (per 100 people)\n",
       "2307         SP.POP.GROW                       Population growth (annual %)\n",
       "2323      SP.SEC.TOTL.IN  Population of the official age for secondary e...\n",
       "2326      SP.TER.TOTL.IN  Population of the official age for tertiary ed...\n",
       "2486      SP.POP.1564.TO                      Population, ages 15-64, total\n",
       "2533         SP.POP.TOTL                                  Population, total\n",
       "94098  SP.POP.1319.TO.UN                      Population, ages 13-19, total"
      ]
     },
     "execution_count": 39,
     "metadata": {},
     "output_type": "execute_result"
    }
   ],
   "source": [
    "# To see code-name relationship for the indocators\n",
    "data[[\"Indicator Code\", \"Indicator Name\"]].drop_duplicates()"
   ]
  },
  {
   "cell_type": "markdown",
   "metadata": {},
   "source": [
    "On regarde les distributions de chacun des indicateurs et on trie le dataframe pour garder les pays idéals pour le projet.\n"
   ]
  },
  {
   "cell_type": "code",
   "execution_count": 40,
   "metadata": {},
   "outputs": [
    {
     "data": {
      "image/png": "[encoded data removed]",
      "text/plain": [
       "<Figure size 2160x720 with 1 Axes>"
      ]
     },
     "metadata": {
      "needs_background": "light"
     },
     "output_type": "display_data"
    }
   ],
   "source": [
    "dft = data_ref[data_ref[\"SP.POP.TOTL\"]<3.e7]\n",
    "sns.histplot(data=dft, x=\"SP.POP.TOTL\", bins=50, kde=True)\n",
    "plt.show()"
   ]
  },
  {
   "cell_type": "code",
   "execution_count": 41,
   "metadata": {},
   "outputs": [],
   "source": [
    "# Cut on population\n",
    "data_ref = data_ref[data_ref[\"SP.POP.TOTL\"]>5.e6]"
   ]
  },
  {
   "cell_type": "code",
   "execution_count": 42,
   "metadata": {},
   "outputs": [
    {
     "data": {
      "image/png": "[encoded data removed]",
      "text/plain": [
       "<Figure size 2160x720 with 1 Axes>"
      ]
     },
     "metadata": {
      "needs_background": "light"
     },
     "output_type": "display_data"
    }
   ],
   "source": [
    "sns.histplot(data=data_ref, x=\"IT.NET.USER.P2\", bins=50, kde=True)\n",
    "plt.show()"
   ]
  },
  {
   "cell_type": "markdown",
   "metadata": {},
   "source": [
    "Internet est important pour la suite"
   ]
  },
  {
   "cell_type": "code",
   "execution_count": 43,
   "metadata": {},
   "outputs": [],
   "source": [
    "# Cut on internet users\n",
    "data_ref = data_ref[data_ref[\"IT.NET.USER.P2\"]>50]"
   ]
  },
  {
   "cell_type": "code",
   "execution_count": 44,
   "metadata": {},
   "outputs": [
    {
     "data": {
      "text/plain": [
       "False"
      ]
     },
     "execution_count": 44,
     "metadata": {},
     "output_type": "execute_result"
    }
   ],
   "source": [
    "# less than 50% of chinees use internet ?!\n",
    "\"China\" in data_ref[\"Country Name\"].to_list()"
   ]
  },
  {
   "cell_type": "markdown",
   "metadata": {},
   "source": [
    "Le taux d'éducation secondaire est très important."
   ]
  },
  {
   "cell_type": "code",
   "execution_count": 45,
   "metadata": {},
   "outputs": [
    {
     "data": {
      "image/png": "[encoded data removed]",
      "text/plain": [
       "<Figure size 2160x720 with 1 Axes>"
      ]
     },
     "metadata": {
      "needs_background": "light"
     },
     "output_type": "display_data"
    }
   ],
   "source": [
    "# Distriburion for secondary education (No outliers)\n",
    "sns.histplot(data=data_ref, x=\"SE.SEC.ENRL.GC\", bins=50, kde=True)\n",
    "plt.show()"
   ]
  },
  {
   "cell_type": "markdown",
   "metadata": {},
   "source": [
    "Examen des pays qui peuvent être abérrant"
   ]
  },
  {
   "cell_type": "code",
   "execution_count": 46,
   "metadata": {},
   "outputs": [
    {
     "data": {
      "text/plain": [
       "18            Brazil\n",
       "128    United States\n",
       "Name: Country Name, dtype: object"
      ]
     },
     "execution_count": 46,
     "metadata": {},
     "output_type": "execute_result"
    }
   ],
   "source": [
    "# US is not the oulier\n",
    "data_ref[data_ref[\"SE.SEC.ENRL.GC\"]>2.e7][\"Country Name\"]"
   ]
  },
  {
   "cell_type": "code",
   "execution_count": 47,
   "metadata": {},
   "outputs": [
    {
     "data": {
      "image/png": "[encoded data removed]",
      "text/plain": [
       "<Figure size 2160x720 with 1 Axes>"
      ]
     },
     "metadata": {
      "needs_background": "light"
     },
     "output_type": "display_data"
    }
   ],
   "source": [
    "# Distriburion for tertiary education (# No outliers)\n",
    "sns.histplot(data=data_ref, x=\"SE.TER.ENRL\", bins=50, kde=True)\n",
    "plt.show()"
   ]
  },
  {
   "cell_type": "code",
   "execution_count": 48,
   "metadata": {},
   "outputs": [
    {
     "data": {
      "text/plain": [
       "128    United States\n",
       "Name: Country Name, dtype: object"
      ]
     },
     "execution_count": 48,
     "metadata": {},
     "output_type": "execute_result"
    }
   ],
   "source": [
    "data_ref[data_ref[\"SE.TER.ENRL\"]>1.e7][\"Country Name\"]"
   ]
  },
  {
   "cell_type": "code",
   "execution_count": 49,
   "metadata": {},
   "outputs": [
    {
     "data": {
      "image/png": "[encoded data removed]",
      "text/plain": [
       "<Figure size 2160x720 with 1 Axes>"
      ]
     },
     "metadata": {
      "needs_background": "light"
     },
     "output_type": "display_data"
    }
   ],
   "source": [
    "# Gross National Income \n",
    "sns.histplot(data=data_ref, x=\"NY.GNP.MKTP.CD\", bins=50, kde=True)\n",
    "plt.show()"
   ]
  },
  {
   "cell_type": "code",
   "execution_count": 50,
   "metadata": {},
   "outputs": [
    {
     "data": {
      "image/png": "[encoded data removed]",
      "text/plain": [
       "<Figure size 2160x720 with 1 Axes>"
      ]
     },
     "metadata": {
      "needs_background": "light"
     },
     "output_type": "display_data"
    }
   ],
   "source": [
    "# GDP per capita\n",
    "sns.histplot(data=data_ref, x=\"NY.GDP.PCAP.CD\", bins=30, kde=True)\n",
    "plt.show()\n"
   ]
  },
  {
   "cell_type": "code",
   "execution_count": 51,
   "metadata": {},
   "outputs": [
    {
     "data": {
      "text/plain": [
       "40"
      ]
     },
     "execution_count": 51,
     "metadata": {},
     "output_type": "execute_result"
    }
   ],
   "source": [
    "# final number of countries\n",
    "len(data_ref)"
   ]
  },
  {
   "cell_type": "markdown",
   "metadata": {},
   "source": [
    "Scoring"
   ]
  },
  {
   "cell_type": "code",
   "execution_count": 52,
   "metadata": {},
   "outputs": [],
   "source": [
    "def computeScore( df, indics ) :\n",
    "    \"\"\"\n",
    "    Computes the score acording to given indocators\n",
    "    df : dataframe\n",
    "    indics : list\n",
    "    \"\"\"\n",
    "    N = len(indics)\n",
    "    new_cols = [c+\"_norm\" for c in indics]\n",
    "    for indic in indics :\n",
    "        df[indic+\"_norm\"] = \\\n",
    "        (df[indic] - min(df[indic])) / (max(df[indic])- min(df[indic]))*100.\n",
    "    \n",
    "    df[\"score\"] = round(df[new_cols].mean(axis=1, skipna=True ), 0) \n",
    "    df = df.sort_values( by=[\"score\"], ascending=False )\\\n",
    "           .reset_index(drop=True)\n",
    "    return df[[\"Country Name\", \"score\"]]\n",
    "    "
   ]
  },
  {
   "cell_type": "markdown",
   "metadata": {},
   "source": [
    "Liste des pays avec un score, c'est la liste des pays qui sont bien pour le projet."
   ]
  },
  {
   "cell_type": "code",
   "execution_count": 53,
   "metadata": {},
   "outputs": [
    {
     "data": {
      "text/html": [
       "<div>\n",
       "<style scoped>\n",
       "    .dataframe tbody tr th:only-of-type {\n",
       "        vertical-align: middle;\n",
       "    }\n",
       "\n",
       "    .dataframe tbody tr th {\n",
       "        vertical-align: top;\n",
       "    }\n",
       "\n",
       "    .dataframe thead th {\n",
       "        text-align: right;\n",
       "    }\n",
       "</style>\n",
       "<table border=\"1\" class=\"dataframe\">\n",
       "  <thead>\n",
       "    <tr style=\"text-align: right;\">\n",
       "      <th>Indicator Code</th>\n",
       "      <th>Country Name</th>\n",
       "      <th>score</th>\n",
       "    </tr>\n",
       "  </thead>\n",
       "  <tbody>\n",
       "    <tr>\n",
       "      <th>0</th>\n",
       "      <td>United States</td>\n",
       "      <td>79.0</td>\n",
       "    </tr>\n",
       "    <tr>\n",
       "      <th>1</th>\n",
       "      <td>Brazil</td>\n",
       "      <td>33.0</td>\n",
       "    </tr>\n",
       "    <tr>\n",
       "      <th>2</th>\n",
       "      <td>Japan</td>\n",
       "      <td>24.0</td>\n",
       "    </tr>\n",
       "    <tr>\n",
       "      <th>3</th>\n",
       "      <td>United Kingdom</td>\n",
       "      <td>22.0</td>\n",
       "    </tr>\n",
       "    <tr>\n",
       "      <th>4</th>\n",
       "      <td>Norway</td>\n",
       "      <td>22.0</td>\n",
       "    </tr>\n",
       "    <tr>\n",
       "      <th>5</th>\n",
       "      <td>Switzerland</td>\n",
       "      <td>21.0</td>\n",
       "    </tr>\n",
       "    <tr>\n",
       "      <th>6</th>\n",
       "      <td>Australia</td>\n",
       "      <td>20.0</td>\n",
       "    </tr>\n",
       "    <tr>\n",
       "      <th>7</th>\n",
       "      <td>France</td>\n",
       "      <td>20.0</td>\n",
       "    </tr>\n",
       "    <tr>\n",
       "      <th>8</th>\n",
       "      <td>Russian Federation</td>\n",
       "      <td>19.0</td>\n",
       "    </tr>\n",
       "    <tr>\n",
       "      <th>9</th>\n",
       "      <td>Turkey</td>\n",
       "      <td>19.0</td>\n",
       "    </tr>\n",
       "    <tr>\n",
       "      <th>10</th>\n",
       "      <td>Lebanon</td>\n",
       "      <td>18.0</td>\n",
       "    </tr>\n",
       "    <tr>\n",
       "      <th>11</th>\n",
       "      <td>Italy</td>\n",
       "      <td>17.0</td>\n",
       "    </tr>\n",
       "    <tr>\n",
       "      <th>12</th>\n",
       "      <td>Saudi Arabia</td>\n",
       "      <td>17.0</td>\n",
       "    </tr>\n",
       "    <tr>\n",
       "      <th>13</th>\n",
       "      <td>Korea, Rep.</td>\n",
       "      <td>15.0</td>\n",
       "    </tr>\n",
       "    <tr>\n",
       "      <th>14</th>\n",
       "      <td>Sweden</td>\n",
       "      <td>15.0</td>\n",
       "    </tr>\n",
       "    <tr>\n",
       "      <th>15</th>\n",
       "      <td>Denmark</td>\n",
       "      <td>14.0</td>\n",
       "    </tr>\n",
       "    <tr>\n",
       "      <th>16</th>\n",
       "      <td>Netherlands</td>\n",
       "      <td>14.0</td>\n",
       "    </tr>\n",
       "    <tr>\n",
       "      <th>17</th>\n",
       "      <td>Israel</td>\n",
       "      <td>13.0</td>\n",
       "    </tr>\n",
       "    <tr>\n",
       "      <th>18</th>\n",
       "      <td>Austria</td>\n",
       "      <td>13.0</td>\n",
       "    </tr>\n",
       "    <tr>\n",
       "      <th>19</th>\n",
       "      <td>Finland</td>\n",
       "      <td>12.0</td>\n",
       "    </tr>\n",
       "    <tr>\n",
       "      <th>20</th>\n",
       "      <td>Belgium</td>\n",
       "      <td>12.0</td>\n",
       "    </tr>\n",
       "    <tr>\n",
       "      <th>21</th>\n",
       "      <td>Argentina</td>\n",
       "      <td>12.0</td>\n",
       "    </tr>\n",
       "    <tr>\n",
       "      <th>22</th>\n",
       "      <td>Spain</td>\n",
       "      <td>11.0</td>\n",
       "    </tr>\n",
       "    <tr>\n",
       "      <th>23</th>\n",
       "      <td>Venezuela, RB</td>\n",
       "      <td>11.0</td>\n",
       "    </tr>\n",
       "    <tr>\n",
       "      <th>24</th>\n",
       "      <td>Hong Kong SAR, China</td>\n",
       "      <td>11.0</td>\n",
       "    </tr>\n",
       "    <tr>\n",
       "      <th>25</th>\n",
       "      <td>Malaysia</td>\n",
       "      <td>10.0</td>\n",
       "    </tr>\n",
       "    <tr>\n",
       "      <th>26</th>\n",
       "      <td>Colombia</td>\n",
       "      <td>10.0</td>\n",
       "    </tr>\n",
       "    <tr>\n",
       "      <th>27</th>\n",
       "      <td>Kazakhstan</td>\n",
       "      <td>9.0</td>\n",
       "    </tr>\n",
       "    <tr>\n",
       "      <th>28</th>\n",
       "      <td>Chile</td>\n",
       "      <td>8.0</td>\n",
       "    </tr>\n",
       "    <tr>\n",
       "      <th>29</th>\n",
       "      <td>Morocco</td>\n",
       "      <td>7.0</td>\n",
       "    </tr>\n",
       "    <tr>\n",
       "      <th>30</th>\n",
       "      <td>Poland</td>\n",
       "      <td>7.0</td>\n",
       "    </tr>\n",
       "    <tr>\n",
       "      <th>31</th>\n",
       "      <td>Azerbaijan</td>\n",
       "      <td>6.0</td>\n",
       "    </tr>\n",
       "    <tr>\n",
       "      <th>32</th>\n",
       "      <td>Slovak Republic</td>\n",
       "      <td>5.0</td>\n",
       "    </tr>\n",
       "    <tr>\n",
       "      <th>33</th>\n",
       "      <td>Czech Republic</td>\n",
       "      <td>5.0</td>\n",
       "    </tr>\n",
       "    <tr>\n",
       "      <th>34</th>\n",
       "      <td>Hungary</td>\n",
       "      <td>4.0</td>\n",
       "    </tr>\n",
       "    <tr>\n",
       "      <th>35</th>\n",
       "      <td>Portugal</td>\n",
       "      <td>4.0</td>\n",
       "    </tr>\n",
       "    <tr>\n",
       "      <th>36</th>\n",
       "      <td>Greece</td>\n",
       "      <td>4.0</td>\n",
       "    </tr>\n",
       "    <tr>\n",
       "      <th>37</th>\n",
       "      <td>Romania</td>\n",
       "      <td>3.0</td>\n",
       "    </tr>\n",
       "    <tr>\n",
       "      <th>38</th>\n",
       "      <td>Belarus</td>\n",
       "      <td>3.0</td>\n",
       "    </tr>\n",
       "    <tr>\n",
       "      <th>39</th>\n",
       "      <td>Bulgaria</td>\n",
       "      <td>1.0</td>\n",
       "    </tr>\n",
       "  </tbody>\n",
       "</table>\n",
       "</div>"
      ],
      "text/plain": [
       "Indicator Code          Country Name  score\n",
       "0                      United States   79.0\n",
       "1                             Brazil   33.0\n",
       "2                              Japan   24.0\n",
       "3                     United Kingdom   22.0\n",
       "4                             Norway   22.0\n",
       "5                        Switzerland   21.0\n",
       "6                          Australia   20.0\n",
       "7                             France   20.0\n",
       "8                 Russian Federation   19.0\n",
       "9                             Turkey   19.0\n",
       "10                           Lebanon   18.0\n",
       "11                             Italy   17.0\n",
       "12                      Saudi Arabia   17.0\n",
       "13                       Korea, Rep.   15.0\n",
       "14                            Sweden   15.0\n",
       "15                           Denmark   14.0\n",
       "16                       Netherlands   14.0\n",
       "17                            Israel   13.0\n",
       "18                           Austria   13.0\n",
       "19                           Finland   12.0\n",
       "20                           Belgium   12.0\n",
       "21                         Argentina   12.0\n",
       "22                             Spain   11.0\n",
       "23                     Venezuela, RB   11.0\n",
       "24              Hong Kong SAR, China   11.0\n",
       "25                          Malaysia   10.0\n",
       "26                          Colombia   10.0\n",
       "27                        Kazakhstan    9.0\n",
       "28                             Chile    8.0\n",
       "29                           Morocco    7.0\n",
       "30                            Poland    7.0\n",
       "31                        Azerbaijan    6.0\n",
       "32                   Slovak Republic    5.0\n",
       "33                    Czech Republic    5.0\n",
       "34                           Hungary    4.0\n",
       "35                          Portugal    4.0\n",
       "36                            Greece    4.0\n",
       "37                           Romania    3.0\n",
       "38                           Belarus    3.0\n",
       "39                          Bulgaria    1.0"
      ]
     },
     "execution_count": 53,
     "metadata": {},
     "output_type": "execute_result"
    }
   ],
   "source": [
    "# selected indocators\n",
    "inds = [\"SE.SEC.ENRL.GC\", \"SE.TER.ENRL\", \"NY.GDP.PCAP.CD\", \n",
    "        \"NY.GNP.MKTP.CD\", \"SP.POP.GROW\", \"NY.GDP.MKTP.CD\"]\n",
    "computeScore( data_ref, inds )"
   ]
  },
  {
   "cell_type": "code",
   "execution_count": null,
   "metadata": {},
   "outputs": [],
   "source": []
  }
 ],
 "metadata": {
  "kernelspec": {
   "display_name": "Python 3.9.12 ('base')",
   "language": "python",
   "name": "python3"
  },
  "language_info": {
   "codemirror_mode": {
    "name": "ipython",
    "version": 3
   },
   "file_extension": ".py",
   "mimetype": "text/x-python",
   "name": "python",
   "nbconvert_exporter": "python",
   "pygments_lexer": "ipython3",
   "version": "3.9.12"
  },
  "vscode": {
   "interpreter": {
    "hash": "bbc6fb1405f451f194e7593065e68b5d9549c3d089f98f9475f28f3a17bb285e"
   }
  }
 },
 "nbformat": 4,
 "nbformat_minor": 4
}
